{
 "cells": [
  {
   "cell_type": "code",
   "execution_count": 1,
   "metadata": {},
   "outputs": [
    {
     "name": "stderr",
     "output_type": "stream",
     "text": [
      "/Users/jenny/miniconda3/envs/planckton/lib/python3.7/site-packages/mdtraj/core/trajectory.py:32: DeprecationWarning: Using or importing the ABCs from 'collections' instead of from 'collections.abc' is deprecated since Python 3.3,and in 3.9 it will stop working\n",
      "  from collections import Iterable\n"
     ]
    }
   ],
   "source": [
    "import foyer\n",
    "import hoomd\n",
    "from hoomd.data import make_snapshot\n",
    "import mbuild as mb\n",
    "from mbuild.formats.hoomd_simulation import create_hoomd_simulation\n",
    "import numpy as np\n",
    "\n",
    "from planckton.utils.rigid import connect_rings"
   ]
  },
  {
   "cell_type": "code",
   "execution_count": 2,
   "metadata": {},
   "outputs": [],
   "source": [
    "bz_str = \"c1ccccc1\"\n",
    "bz = mb.load(bz_str, smiles=True, ignore_box_warn=True)\n",
    "name = \"bz\"\n",
    "bz.name = name\n",
    "#bz.visualize().show()"
   ]
  },
  {
   "cell_type": "code",
   "execution_count": 3,
   "metadata": {},
   "outputs": [],
   "source": [
    "#npt_str = \"c1ccc2ccccc2c1\"\n",
    "#npt = mb.load(npt_str, smiles=True, ignore_box_warn=True)\n",
    "#npt.visualize().show()"
   ]
  },
  {
   "cell_type": "code",
   "execution_count": 4,
   "metadata": {},
   "outputs": [],
   "source": [
    "#py_str = \"c1cc2cccc3ccc4cccc1c4c32\"\n",
    "#py = mb.load(py_str, smiles=True, ignore_box_warn=True)\n",
    "#py.visualize().show()"
   ]
  },
  {
   "cell_type": "code",
   "execution_count": 5,
   "metadata": {},
   "outputs": [],
   "source": [
    "box = mb.Box([5,5,5])\n",
    "system = mb.fill_box(bz, n_compounds=10, box=box)\n",
    "#system.visualize().show()"
   ]
  },
  {
   "cell_type": "code",
   "execution_count": 6,
   "metadata": {},
   "outputs": [
    {
     "name": "stderr",
     "output_type": "stream",
     "text": [
      "/Users/jenny/miniconda3/envs/planckton/lib/python3.7/site-packages/foyer/forcefield.py:449: UserWarning: No force field version number found in force field XML file.\n",
      "  'No force field version number found in force field XML file.'\n",
      "/Users/jenny/miniconda3/envs/planckton/lib/python3.7/site-packages/foyer/forcefield.py:461: UserWarning: No force field name found in force field XML file.\n",
      "  'No force field name found in force field XML file.'\n",
      "/Users/jenny/miniconda3/envs/planckton/lib/python3.7/site-packages/foyer/validator.py:132: ValidationWarning: You have empty smart definition(s)\n",
      "  warn(\"You have empty smart definition(s)\", ValidationWarning)\n"
     ]
    }
   ],
   "source": [
    "gaff = foyer.forcefields.load_GAFF()\n",
    "pmd_system = system.to_parmed(residues=[name])\n",
    "typed_system = gaff.apply(system)\n",
    "#print(set([atom.type for atom in typed_system.atoms]))"
   ]
  },
  {
   "cell_type": "markdown",
   "metadata": {},
   "source": [
    "On feat/rigid branch of my fork of mbuild, an initial snapshot can be passed in:\n",
    "\n",
    "```\n",
    "create_hoomd_simulation(structure, ref_distance=1.0, ref_mass=1.0, ref_energy=1.0, r_cut=1.2, auto_scale=False, snapshot_kwargs={}, pppm_kwargs={'Nx': 8, 'Ny': 8, 'Nz': 8, 'order': 4}, init_snap=None)\n",
    "```\n",
    "\n",
    "First, make a snapshot with 10 rigid particles--one for each benzene ring:"
   ]
  },
  {
   "cell_type": "code",
   "execution_count": 7,
   "metadata": {},
   "outputs": [
    {
     "name": "stdout",
     "output_type": "stream",
     "text": [
      "HOOMD-blue 2.9.3 DOUBLE HPMC_MIXED TBB SSE SSE2 SSE3 \n",
      "Compiled: 10/17/2020\n",
      "Copyright (c) 2009-2019 The Regents of the University of Michigan.\n",
      "-----\n",
      "You are using HOOMD-blue. Please cite the following:\n",
      "* J A Anderson, J Glaser, and S C Glotzer. \"HOOMD-blue: A Python package for\n",
      "  high-performance molecular dynamics and hard particle Monte Carlo\n",
      "  simulations\", Computational Materials Science 173 (2020) 109363\n",
      "-----\n",
      "HOOMD-blue is running on the CPU\n"
     ]
    }
   ],
   "source": [
    "sim = hoomd.context.SimulationContext()\n",
    "\n",
    "with sim:\n",
    "    hoomd.context.initialize(\"\")\n",
    "    init_snap = make_snapshot(N=10, particle_types=[\"_R\"], box=hoomd.data.boxdim(L=10))"
   ]
  },
  {
   "cell_type": "code",
   "execution_count": 8,
   "metadata": {},
   "outputs": [
    {
     "name": "stdout",
     "output_type": "stream",
     "text": [
      "notice(2): Group \"all\" created containing 130 particles\n",
      "notice(2): -- Neighborlist exclusion statistics -- :\n",
      "notice(2): Particles with 0 exclusions             : 10\n",
      "notice(2): Particles with 3 exclusions             : 60\n",
      "notice(2): Particles with 7 exclusions             : 60\n",
      "notice(2): Neighbors included by diameter          : no\n",
      "notice(2): Neighbors excluded when in the same body: no\n",
      "Processing LJ and QQ\n",
      "notice(2): Group \"charged\" created containing 0 particles\n",
      "No charged groups found, ignoring electrostatics\n",
      "Processing 1-4 interactions, adjusting neighborlist exclusions\n",
      "Processing harmonic bonds\n",
      "Processing harmonic angles\n",
      "Processing periodic torsions\n",
      "HOOMD SimulationContext updated from ParmEd Structure\n"
     ]
    }
   ],
   "source": [
    "with sim:\n",
    "    hoomd_objects, ref_values = create_hoomd_simulation(\n",
    "        typed_system, auto_scale=True, init_snap=init_snap\n",
    "    )\n",
    "    snap = hoomd_objects[0]"
   ]
  },
  {
   "cell_type": "markdown",
   "metadata": {},
   "source": [
    "Want to do something with [ring detection](https://openbabel.org/wiki/Ring_detection) where rings are automatically converted to rigid bodies.\n",
    "\n",
    "- convert to pybel mol\n",
    "- use smarts matching to find rings\n",
    "- make rigid\n",
    "\n",
    "[SSSR documentation](http://openbabel.org/dev-api/classOpenBabel_1_1OBRing.shtml#_details)"
   ]
  },
  {
   "cell_type": "code",
   "execution_count": 9,
   "metadata": {},
   "outputs": [
    {
     "name": "stdout",
     "output_type": "stream",
     "text": [
      "[0 1 2 3 4 5]\n",
      "[12 13 14 15 16 17]\n",
      "[24 25 26 27 28 29]\n",
      "[36 37 38 39 40 41]\n",
      "[48 49 50 51 52 53]\n",
      "[64 65 60 61 62 63]\n",
      "[72 73 74 75 76 77]\n",
      "[84 85 86 87 88 89]\n",
      "[ 96  97  98  99 100 101]\n",
      "[108 109 110 111 112 113]\n",
      "10\n"
     ]
    }
   ],
   "source": [
    "system_mol = system.to_pybel()\n",
    "rings = sorted(connect_rings(system_mol), key=lambda x: x[0])\n",
    "\n",
    "print(*rings, sep=\"\\n\")\n",
    "print(len(rings))"
   ]
  },
  {
   "cell_type": "code",
   "execution_count": 10,
   "metadata": {},
   "outputs": [],
   "source": [
    "for i,ring in enumerate(rings):\n",
    "    ring += len(rings)\n",
    "    snap.particles.position[i] = np.mean(snap.particles.position[ring], axis=0)\n",
    "    snap.particles.body[i] = i\n",
    "    snap.particles.body[ring] = i * np.ones(len(ring))"
   ]
  },
  {
   "cell_type": "code",
   "execution_count": 14,
   "metadata": {},
   "outputs": [
    {
     "data": {
      "text/plain": [
       "array([         0,          1,          2,          3,          4,\n",
       "                5,          6,          7,          8,          9,\n",
       "                0,          0,          0,          0,          0,\n",
       "                0, 4294967295, 4294967295, 4294967295, 4294967295,\n",
       "       4294967295, 4294967295,          1,          1,          1,\n",
       "                1,          1,          1, 4294967295, 4294967295,\n",
       "       4294967295, 4294967295, 4294967295, 4294967295,          2,\n",
       "                2,          2,          2,          2,          2,\n",
       "       4294967295, 4294967295, 4294967295, 4294967295, 4294967295,\n",
       "       4294967295,          3,          3,          3,          3,\n",
       "                3,          3, 4294967295, 4294967295, 4294967295,\n",
       "       4294967295, 4294967295, 4294967295,          4,          4,\n",
       "                4,          4,          4,          4, 4294967295,\n",
       "       4294967295, 4294967295, 4294967295, 4294967295, 4294967295,\n",
       "                5,          5,          5,          5,          5,\n",
       "                5, 4294967295, 4294967295, 4294967295, 4294967295,\n",
       "       4294967295, 4294967295,          6,          6,          6,\n",
       "                6,          6,          6, 4294967295, 4294967295,\n",
       "       4294967295, 4294967295, 4294967295, 4294967295,          7,\n",
       "                7,          7,          7,          7,          7,\n",
       "       4294967295, 4294967295, 4294967295, 4294967295, 4294967295,\n",
       "       4294967295,          8,          8,          8,          8,\n",
       "                8,          8, 4294967295, 4294967295, 4294967295,\n",
       "       4294967295, 4294967295, 4294967295,          9,          9,\n",
       "                9,          9,          9,          9, 4294967295,\n",
       "       4294967295, 4294967295, 4294967295, 4294967295, 4294967295],\n",
       "      dtype=uint32)"
      ]
     },
     "execution_count": 14,
     "metadata": {},
     "output_type": "execute_result"
    }
   ],
   "source": [
    "snap.particles.body"
   ]
  },
  {
   "cell_type": "code",
   "execution_count": 13,
   "metadata": {},
   "outputs": [
    {
     "data": {
      "text/plain": [
       "array([[-1.4753485 , -2.2619445 , -3.6145627 ],\n",
       "       [-2.8375711 , -5.605292  , -3.0110047 ],\n",
       "       [-3.143246  , -2.9563377 ,  4.407785  ],\n",
       "       [-5.3500056 , -1.5039836 ,  2.6052277 ],\n",
       "       [-5.9524727 ,  2.1669724 ,  3.4030674 ],\n",
       "       [ 5.3233447 , -2.262244  ,  5.5795    ],\n",
       "       [-0.1939019 ,  4.9484797 ,  5.3657055 ],\n",
       "       [-3.394964  ,  5.445753  ,  4.172228  ],\n",
       "       [-6.62466   , -3.6519563 , -2.780978  ],\n",
       "       [ 4.0822525 , -1.4754806 ,  1.6986548 ],\n",
       "       [-1.5133265 , -1.9395232 , -3.8653228 ],\n",
       "       [-1.3491597 , -2.2891803 , -4.004143  ],\n",
       "       [-1.3165853 , -2.6132596 , -3.7545214 ],\n",
       "       [-1.4368455 , -2.5841992 , -3.3636713 ],\n",
       "       [-1.597495  , -2.2333288 , -3.223781  ],\n",
       "       [-1.638679  , -1.9121761 , -3.4759364 ],\n",
       "       [-1.5440898 , -1.688826  , -4.0613537 ],\n",
       "       [-1.2471571 , -2.3090792 , -4.306221  ],\n",
       "       [-1.197387  , -2.8885994 , -3.8651645 ],\n",
       "       [-1.4053987 , -2.834745  , -3.167557  ],\n",
       "       [-1.6915462 , -2.210766  , -2.9193184 ],\n",
       "       [-1.7678216 , -1.6401832 , -3.3682067 ],\n",
       "       [-2.8482363 , -5.9953475 , -3.1375806 ],\n",
       "       [-2.5593922 , -5.873453  , -2.8726413 ],\n",
       "       [-2.5525715 , -5.4845257 , -2.7419188 ],\n",
       "       [-2.8265424 , -5.215113  , -2.8848457 ],\n",
       "       [-3.1130536 , -5.3360868 , -3.1527343 ],\n",
       "       [-3.1256306 , -5.727225  , -3.2763088 ],\n",
       "       [-2.857174  , -6.299737  , -3.2350004 ],\n",
       "       [-2.3403616 , -6.081182  , -2.768115  ],\n",
       "       [-2.3333921 , -5.391754  , -2.5283399 ],\n",
       "       [-2.8170788 , -4.9105964 , -2.7878776 ],\n",
       "       [-3.3267765 , -5.1262593 , -3.2638507 ],\n",
       "       [-3.3514721 , -5.822557  , -3.481664  ],\n",
       "       [-3.4939551 , -3.0207295 ,  4.2049665 ],\n",
       "       [-3.2358968 , -2.7268445 ,  4.08039   ],\n",
       "       [-2.882544  , -2.6665733 ,  4.2801623 ],\n",
       "       [-2.7927945 , -2.891553  ,  4.610919  ],\n",
       "       [-3.0526264 , -3.182886  ,  4.7378044 ],\n",
       "       [-3.4016597 , -3.24944   ,  4.532466  ],\n",
       "       [-3.7665784 , -3.071637  ,  4.04588   ],\n",
       "       [-3.3099139 , -2.5454724 ,  3.828047  ],\n",
       "       [-2.6771424 , -2.44399   ,  4.1775513 ],\n",
       "       [-2.5204637 , -2.8400898 ,  4.770326  ],\n",
       "       [-2.9825516 , -3.3584561 ,  4.9953246 ],\n",
       "       [-3.6021013 , -3.4792936 ,  4.6286645 ],\n",
       "       [-4.949787  , -1.5636252 ,  2.672655  ],\n",
       "       [-5.0888515 , -1.1882381 ,  2.5819504 ],\n",
       "       [-5.4900417 , -1.1279885 ,  2.5201743 ],\n",
       "       [-5.7501397 , -1.4444189 ,  2.537246  ],\n",
       "       [-5.610573  , -1.820519  ,  2.6241786 ],\n",
       "       [-5.2106404 , -1.8791121 ,  2.6951625 ],\n",
       "       [-4.6380033 , -1.6095788 ,  2.7265315 ],\n",
       "       [-4.885047  , -0.94324195,  2.559775  ],\n",
       "       [-5.5996823 , -0.8339249 ,  2.4587934 ],\n",
       "       [-6.0618014 , -1.398461  ,  2.482675  ],\n",
       "       [-5.813275  , -2.0670495 ,  2.637843  ],\n",
       "       [-5.1024375 , -2.1712937 ,  2.767172  ],\n",
       "       [-5.841201  ,  2.0723329 ,  3.0197394 ],\n",
       "       [-6.0375204 ,  2.4248004 ,  3.095285  ],\n",
       "       [-6.14359   ,  2.5216842 ,  3.4796839 ],\n",
       "       [-6.0642505 ,  2.2613766 ,  3.7863042 ],\n",
       "       [-5.871334  ,  1.907139  ,  3.7102356 ],\n",
       "       [-5.7569375 ,  1.8145014 ,  3.327157  ],\n",
       "       [-5.7533526 ,  1.9994558 ,  2.7210836 ],\n",
       "       [-6.1073794 ,  2.6235795 ,  2.8551645 ],\n",
       "       [-6.288127  ,  2.80051   ,  3.5399108 ],\n",
       "       [-6.1527586 ,  2.334053  ,  4.084813  ],\n",
       "       [-5.809176  ,  1.7044407 ,  3.9491956 ],\n",
       "       [-5.602779  ,  1.540546  ,  3.2684445 ],\n",
       "       [ 5.0249543 , -1.981412  ,  5.598864  ],\n",
       "       [ 4.994336  , -2.2955325 ,  5.3364286 ],\n",
       "       [ 5.290385  , -2.579311  ,  5.321433  ],\n",
       "       [ 5.6219807 , -2.542783  ,  5.559719  ],\n",
       "       [ 5.654414  , -2.2265847 ,  5.819439  ],\n",
       "       [ 5.353997  , -1.9478422 ,  5.841118  ],\n",
       "       [ 4.7915974 , -1.7634305 ,  5.6147447 ],\n",
       "       [ 4.7402077 , -2.3192127 ,  5.144311  ],\n",
       "       [ 5.2621775 , -2.829091  ,  5.1237555 ],\n",
       "       [ 5.8555856 , -2.7604542 ,  5.5432563 ],\n",
       "       [ 5.912626  , -2.1982877 ,  6.00539   ],\n",
       "       [ 5.377166  , -1.703845  ,  6.0465255 ],\n",
       "       [-0.07539468,  4.6146426 ,  5.572556  ],\n",
       "       [ 0.14393575,  4.745504  ,  5.251229  ],\n",
       "       [ 0.02817921,  5.0827646 ,  5.0481143 ],\n",
       "       [-0.31269687,  5.281989  ,  5.1584945 ],\n",
       "       [-0.53416574,  5.148934  ,  5.4774547 ],\n",
       "       [-0.41326898,  4.8170457 ,  5.6863847 ],\n",
       "       [ 0.01796116,  4.3552284 ,  5.7344594 ],\n",
       "       [ 0.40459198,  4.5851626 ,  5.1595764 ],\n",
       "       [ 0.20417632,  5.1901526 ,  4.803666  ],\n",
       "       [-0.4063248 ,  5.54099   ,  4.9960895 ],\n",
       "       [-0.79959595,  5.304363  ,  5.5637145 ],\n",
       "       [-0.58335257,  4.715843  ,  5.937568  ],\n",
       "       [-3.0839803 ,  5.369853  ,  3.9156995 ],\n",
       "       [-3.2345264 ,  5.0686297 ,  4.1503954 ],\n",
       "       [-3.5493438 ,  5.1436553 ,  4.4027066 ],\n",
       "       [-3.7055767 ,  5.521758  ,  4.429171  ],\n",
       "       [-3.552526  ,  5.8239    ,  4.197281  ],\n",
       "       [-3.24383   ,  5.74672   ,  3.9381142 ],\n",
       "       [-2.8425148 ,  5.3100996 ,  3.7148325 ],\n",
       "       [-3.106961  ,  4.7760835 ,  4.136423  ],\n",
       "       [-3.6728153 ,  4.9068747 ,  4.578638  ],\n",
       "       [-3.946586  ,  5.581543  ,  4.6305747 ],\n",
       "       [-3.674483  ,  6.118459  ,  4.2176175 ],\n",
       "       [-3.1274056 ,  5.981037  ,  3.7542546 ],\n",
       "       [-6.4525957 , -3.2810657 , -2.747625  ],\n",
       "       [-6.858602  , -3.315148  , -2.7974167 ],\n",
       "       [-7.0309606 , -3.6865368 , -2.8250325 ],\n",
       "       [-6.7966824 , -4.0228133 , -2.8148944 ],\n",
       "       [-6.3902254 , -3.988623  , -2.7689464 ],\n",
       "       [-6.218896  , -3.6175501 , -2.7319524 ],\n",
       "       [-6.318908  , -2.991925  , -2.72026   ],\n",
       "       [-7.040209  , -3.052882  , -2.8143456 ],\n",
       "       [-7.3482566 , -3.7134547 , -2.85437   ],\n",
       "       [-6.9304094 , -4.3118677 , -2.8429582 ],\n",
       "       [-6.2076807 , -4.250656  , -2.760682  ],\n",
       "       [-5.9027543 , -3.590991  , -2.6917925 ],\n",
       "       [ 4.258873  , -1.2481931 ,  1.9909285 ],\n",
       "       [ 4.145361  , -1.6342703 ,  2.0718057 ],\n",
       "       [ 3.9738975 , -1.8631178 ,  1.7774781 ],\n",
       "       [ 3.905122  , -1.7026047 ,  1.4065653 ],\n",
       "       [ 4.0151396 , -1.3152802 ,  1.3267937 ],\n",
       "       [ 4.195122  , -1.0894171 ,  1.6183579 ],\n",
       "       [ 4.397776  , -1.0717183 ,  2.2184944 ],\n",
       "       [ 4.1907215 , -1.7565275 ,  2.3634338 ],\n",
       "       [ 3.894042  , -2.1668694 ,  1.8376462 ],\n",
       "       [ 3.765589  , -1.8789568 ,  1.1792911 ],\n",
       "       [ 3.9618878 , -1.1902899 ,  1.0376679 ],\n",
       "       [ 4.2848134 , -0.7890767 ,  1.5549976 ]], dtype=float32)"
      ]
     },
     "execution_count": 13,
     "metadata": {},
     "output_type": "execute_result"
    }
   ],
   "source": [
    "snap.particles.position"
   ]
  },
  {
   "cell_type": "code",
   "execution_count": 60,
   "metadata": {},
   "outputs": [
    {
     "name": "stdout",
     "output_type": "stream",
     "text": [
      "notice(2): Group \"all\" created containing 120 particles\n"
     ]
    },
    {
     "name": "stderr",
     "output_type": "stream",
     "text": [
      "**ERROR**: constrain.rigid(): Central particles must have a body tag identical to their contiguous tag.\n"
     ]
    },
    {
     "ename": "RuntimeError",
     "evalue": "Error validating rigid bodies\n",
     "output_type": "error",
     "traceback": [
      "\u001b[0;31m---------------------------------------------------------------------------\u001b[0m",
      "\u001b[0;31mRuntimeError\u001b[0m                              Traceback (most recent call last)",
      "\u001b[0;32m<ipython-input-60-78c8b7485afe>\u001b[0m in \u001b[0;36m<module>\u001b[0;34m\u001b[0m\n\u001b[1;32m     14\u001b[0m         \u001b[0mpositions\u001b[0m\u001b[0;34m=\u001b[0m\u001b[0;34m[\u001b[0m\u001b[0mtuple\u001b[0m\u001b[0;34m(\u001b[0m\u001b[0mi\u001b[0m\u001b[0;34m)\u001b[0m \u001b[0;32mfor\u001b[0m \u001b[0mi\u001b[0m \u001b[0;32min\u001b[0m \u001b[0mconst_pos\u001b[0m\u001b[0;34m]\u001b[0m\u001b[0;34m\u001b[0m\u001b[0;34m\u001b[0m\u001b[0m\n\u001b[1;32m     15\u001b[0m     )\n\u001b[0;32m---> 16\u001b[0;31m     \u001b[0mrigid\u001b[0m\u001b[0;34m.\u001b[0m\u001b[0mvalidate_bodies\u001b[0m\u001b[0;34m(\u001b[0m\u001b[0;34m)\u001b[0m\u001b[0;34m\u001b[0m\u001b[0;34m\u001b[0m\u001b[0m\n\u001b[0m\u001b[1;32m     17\u001b[0m \u001b[0;34m\u001b[0m\u001b[0m\n\u001b[1;32m     18\u001b[0m     \u001b[0mcenters\u001b[0m \u001b[0;34m=\u001b[0m \u001b[0mhoomd\u001b[0m\u001b[0;34m.\u001b[0m\u001b[0mgroup\u001b[0m\u001b[0;34m.\u001b[0m\u001b[0mrigid\u001b[0m\u001b[0;34m(\u001b[0m\u001b[0;34m)\u001b[0m\u001b[0;34m\u001b[0m\u001b[0;34m\u001b[0m\u001b[0m\n",
      "\u001b[0;32m~/miniconda3/envs/planckton/lib/python3.7/site-packages/hoomd/md/constrain.py\u001b[0m in \u001b[0;36mvalidate_bodies\u001b[0;34m(self)\u001b[0m\n\u001b[1;32m    471\u001b[0m         R\"\"\" Validate that bodies are well defined and prepare for the simulation run.\n\u001b[1;32m    472\u001b[0m         \"\"\"\n\u001b[0;32m--> 473\u001b[0;31m         \u001b[0mself\u001b[0m\u001b[0;34m.\u001b[0m\u001b[0mcpp_force\u001b[0m\u001b[0;34m.\u001b[0m\u001b[0mvalidateRigidBodies\u001b[0m\u001b[0;34m(\u001b[0m\u001b[0;32mFalse\u001b[0m\u001b[0;34m)\u001b[0m\u001b[0;34m\u001b[0m\u001b[0;34m\u001b[0m\u001b[0m\n\u001b[0m\u001b[1;32m    474\u001b[0m \u001b[0;34m\u001b[0m\u001b[0m\n\u001b[1;32m    475\u001b[0m     \u001b[0;31m## \\internal\u001b[0m\u001b[0;34m\u001b[0m\u001b[0;34m\u001b[0m\u001b[0;34m\u001b[0m\u001b[0m\n",
      "\u001b[0;31mRuntimeError\u001b[0m: Error validating rigid bodies\n"
     ]
    }
   ],
   "source": [
    "sim = hoomd.context.SimulationContext()\n",
    "\n",
    "with sim:\n",
    "    hoomd.init.read_snapshot(snap)\n",
    "    for i in hoomd_objects[1:]:\n",
    "        i\n",
    "    rigid = hoomd.md.constrain.rigid()\n",
    "    r_pos = snap.particles.position[ring[0]]\n",
    "    const_pos = snap.particles.position[ring[1:]]\n",
    "    const_pos -= r_pos\n",
    "    rigid.set_param(\n",
    "        \"_R\", \n",
    "        types=[snap.particles.types[i] for i in snap.particles.typeid[ring[1:]]],\n",
    "        positions=[tuple(i) for i in const_pos]\n",
    "    )\n",
    "    rigid.validate_bodies()\n",
    "\n",
    "    centers = hoomd.group.rigid()\n",
    "    nonrigid = hoomd.group.nonrigid()\n",
    "\n",
    "    hoomd.md.integrate.langevin(group=centers, kT=1.0, seed=42);\n",
    "    hoomd.md.integrate.langevin(group=nonrigid, kT=1.0, seed=42);\n",
    "    hoomd.run(1e4)"
   ]
  },
  {
   "cell_type": "code",
   "execution_count": 16,
   "metadata": {},
   "outputs": [
    {
     "name": "stdout",
     "output_type": "stream",
     "text": [
      "Help on method validate_bodies in module hoomd.md.constrain:\n",
      "\n",
      "validate_bodies() method of hoomd.md.constrain.rigid instance\n",
      "    Validate that bodies are well defined and prepare for the simulation run.\n",
      "\n"
     ]
    }
   ],
   "source": [
    "help(rigid.validate_bodies)"
   ]
  },
  {
   "cell_type": "code",
   "execution_count": null,
   "metadata": {},
   "outputs": [],
   "source": []
  }
 ],
 "metadata": {
  "kernelspec": {
   "display_name": "Python 3",
   "language": "python",
   "name": "python3"
  },
  "language_info": {
   "codemirror_mode": {
    "name": "ipython",
    "version": 3
   },
   "file_extension": ".py",
   "mimetype": "text/x-python",
   "name": "python",
   "nbconvert_exporter": "python",
   "pygments_lexer": "ipython3",
   "version": "3.7.8"
  }
 },
 "nbformat": 4,
 "nbformat_minor": 4
}
