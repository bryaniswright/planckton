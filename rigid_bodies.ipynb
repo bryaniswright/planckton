{
 "cells": [
  {
   "cell_type": "markdown",
   "metadata": {},
   "source": [
    "# Rigid Bodies"
   ]
  },
  {
   "cell_type": "code",
   "execution_count": null,
   "metadata": {},
   "outputs": [],
   "source": [
    "import warnings\n",
    "warnings.simplefilter(\"ignore\")\n",
    "\n",
    "import os \n",
    "\n",
    "import foyer\n",
    "import hoomd\n",
    "from hoomd.data import make_snapshot\n",
    "import mbuild as mb\n",
    "from mbuild.formats.hoomd_simulation import create_hoomd_simulation\n",
    "import numpy as np\n",
    "import matplotlib.pyplot as plt\n",
    "\n",
    "from planckton.utils.rigid import connect_rings, moit, init_rigid\n",
    "from planckton.utils.utils import set_coeffs\n",
    "from planckton.init import Compound, Pack"
   ]
  },
  {
   "cell_type": "markdown",
   "metadata": {},
   "source": [
    "# trying to modify planckton's init and sim functions"
   ]
  },
  {
   "cell_type": "markdown",
   "metadata": {},
   "source": [
    "## TODO:\n",
    "- write compound.visualize_rigid()\n",
    "- figure out why some compounds work and some don't"
   ]
  },
  {
   "cell_type": "code",
   "execution_count": null,
   "metadata": {},
   "outputs": [],
   "source": [
    "from planckton.compounds import COMPOUND_FILE                                   \n",
    "from planckton.force_fields import FORCE_FIELD \n",
    "from planckton.sim import Simulation"
   ]
  },
  {
   "cell_type": "code",
   "execution_count": null,
   "metadata": {},
   "outputs": [],
   "source": [
    "keys = list(COMPOUND_FILE.keys())\n",
    "print(keys)"
   ]
  },
  {
   "cell_type": "code",
   "execution_count": null,
   "metadata": {},
   "outputs": [],
   "source": [
    "for key in keys:\n",
    "    try:\n",
    "        comp = Compound(COMPOUND_FILE[key], rigid=True)\n",
    "        compound=[comp]\n",
    "        n_compounds=[2]\n",
    "\n",
    "        packer = Pack(compound,n_compounds,density=0.01)\n",
    "        #print(packer.rigid_typeids,packer.rigid_inds)\n",
    "        typed_system = packer.pack()\n",
    "        #print(*zip(packer.rigid_typeids,packer.rigid_inds),sep=\"\\n\")\n",
    "        my_sim = Simulation(                                                    \n",
    "            typed_system,                                                             \n",
    "            kT=3.0,                                                             \n",
    "            gsd_write=1e2,                                                     \n",
    "            log_write=1e2,                                                                                                              \n",
    "            rigid_inds=packer.rigid_inds, \n",
    "            rigid_typeids=packer.rigid_typeids,\n",
    "            n_steps=3e3,                                                        \n",
    "            mode=\"cpu\",                                                         \n",
    "            shrink_time=1e3,                                                    \n",
    "        )                                                                       \n",
    "        my_sim.run() \n",
    "        print(\"\\n!!!!!!!!!!!!!!!!!!!!!!!\")\n",
    "        print(f\"{key} worked!\")\n",
    "        print(\"!!!!!!!!!!!!!!!!!!!!!!!\\n\")\n",
    "    except RuntimeError:\n",
    "        print(\"\\n!!!!!!!!!!!!!!!!!!!!!!!\")\n",
    "        print(f\"{key} didn't work!\")\n",
    "        print(\"!!!!!!!!!!!!!!!!!!!!!!!\\n\")"
   ]
  },
  {
   "cell_type": "markdown",
   "metadata": {},
   "source": [
    "# Working example with Rigid Bodies\n",
    "\n",
    "Let's start with a simple case--a benzene molcule."
   ]
  },
  {
   "cell_type": "code",
   "execution_count": null,
   "metadata": {},
   "outputs": [],
   "source": [
    "bz_str = \"c1ccccc1\"\n",
    "bz = mb.load(bz_str, smiles=True, ignore_box_warn=True)\n",
    "name = \"bz\"\n",
    "bz.name = name\n",
    "#bz.visualize().show()"
   ]
  },
  {
   "cell_type": "code",
   "execution_count": null,
   "metadata": {},
   "outputs": [],
   "source": [
    "#npt_str = \"c1ccc2ccccc2c1\"\n",
    "#npt = mb.load(npt_str, smiles=True, ignore_box_warn=True)\n",
    "#npt.visualize().show()"
   ]
  },
  {
   "cell_type": "code",
   "execution_count": null,
   "metadata": {},
   "outputs": [],
   "source": [
    "#py_str = \"c1cc2cccc3ccc4cccc1c4c32\"\n",
    "#py = mb.load(py_str, smiles=True, ignore_box_warn=True)\n",
    "#py.visualize().show()"
   ]
  },
  {
   "cell_type": "markdown",
   "metadata": {},
   "source": [
    "Let's try fixing the orientation of the benzene molecules when we fill the box--I think that might make it work better with rigid bodies."
   ]
  },
  {
   "cell_type": "code",
   "execution_count": null,
   "metadata": {},
   "outputs": [],
   "source": [
    "box = mb.Box([5,5,5])\n",
    "system = mb.fill_box(bz, n_compounds=10, box=box, fix_orientation=True)\n",
    "#system.visualize().show()"
   ]
  },
  {
   "cell_type": "code",
   "execution_count": null,
   "metadata": {},
   "outputs": [],
   "source": [
    "gaff = foyer.forcefields.load_GAFF()\n",
    "pmd_system = system.to_parmed(residues=[name])\n",
    "typed_system = gaff.apply(system)\n",
    "#print(set([atom.type for atom in typed_system.atoms]))"
   ]
  },
  {
   "cell_type": "markdown",
   "metadata": {},
   "source": [
    "\n",
    "I'm using mbuild from [PR #808](https://github.com/mosdef-hub/mbuild/pull/808) which allows `create_hoomd_simulation` to read in a snapshot:\n",
    "\n",
    "```\n",
    "create_hoomd_simulation(structure, ref_distance=1.0, ref_mass=1.0, ref_energy=1.0, r_cut=1.2, auto_scale=False, snapshot_kwargs={}, pppm_kwargs={'Nx': 8, 'Ny': 8, 'Nz': 8, 'order': 4}, init_snap=None)\n",
    "```\n",
    "\n",
    "First, make a snapshot with 10 rigid particles--one for each benzene ring:"
   ]
  },
  {
   "cell_type": "code",
   "execution_count": null,
   "metadata": {},
   "outputs": [],
   "source": [
    "sim = hoomd.context.SimulationContext()\n",
    "\n",
    "with sim:\n",
    "    hoomd.context.initialize(\"\")\n",
    "    init_snap = make_snapshot(N=10, particle_types=[\"_R\"], box=hoomd.data.boxdim(L=10))"
   ]
  },
  {
   "cell_type": "code",
   "execution_count": null,
   "metadata": {},
   "outputs": [],
   "source": [
    "with sim:\n",
    "    hoomd_objects, ref_values = create_hoomd_simulation(\n",
    "        typed_system, auto_scale=True, init_snap=init_snap\n",
    "    )\n",
    "    snap = hoomd_objects[0]"
   ]
  },
  {
   "cell_type": "markdown",
   "metadata": {},
   "source": [
    "Want to do something with [ring detection](https://openbabel.org/wiki/Ring_detection) where rings are automatically converted to rigid bodies.\n",
    "\n",
    "- convert to pybel mol\n",
    "- use smarts matching to find rings\n",
    "- make rigid\n",
    "\n",
    "[SSSR documentation](http://openbabel.org/dev-api/classOpenBabel_1_1OBRing.shtml#_details)"
   ]
  },
  {
   "cell_type": "code",
   "execution_count": null,
   "metadata": {},
   "outputs": [],
   "source": [
    "system_mol = system.to_pybel()\n",
    "rings = sorted(connect_rings(system_mol), key=lambda x: x[0])\n",
    "\n",
    "#print(*rings, sep=\"\\n\")\n",
    "print(len(rings))"
   ]
  },
  {
   "cell_type": "markdown",
   "metadata": {},
   "source": [
    "Now let's move the rigid body centers to the center of the ring and set the body IDs"
   ]
  },
  {
   "cell_type": "code",
   "execution_count": null,
   "metadata": {},
   "outputs": [],
   "source": [
    "for i,ring in enumerate(rings):\n",
    "    inds = ring + len(rings)\n",
    "    snap.particles.position[i] = np.mean(snap.particles.position[inds], axis=0)\n",
    "    snap.particles.body[i] = i\n",
    "    snap.particles.body[inds] = i * np.ones(len(ring))"
   ]
  },
  {
   "cell_type": "markdown",
   "metadata": {},
   "source": [
    "I am using [this example](http://farside.ph.utexas.edu/teaching/336k/Newtonhtml/node64.html) for how to calculate the moment of inertia tensor (also Matty/Mike/someone's code from cmeutils)\n",
    "\n",
    "From [hoomd docs](https://hoomd-blue.readthedocs.io/en/v2.9.3/module-md-constrain.html#hoomd.md.constrain.rigid)\n",
    ">The mass and moment of inertia of the central particle set the full mass and moment of inertia of the rigid body (constituent particle mass is ignored).\n",
    "\n",
    ">The central particle is at the center of mass of the rigid body and the orientation quaternion defines the rotation from the body space into the simulation box. In body space, the center of mass of the body is at 0,0,0 and the moment of inertia is diagonal. "
   ]
  },
  {
   "cell_type": "code",
   "execution_count": null,
   "metadata": {},
   "outputs": [],
   "source": [
    "for i,ring in enumerate(rings):\n",
    "    inds = ring + len(rings)\n",
    "    snap.particles.moment_inertia[i] = moit(\n",
    "        snap.particles.position[inds], snap.particles.mass[inds], center=snap.particles.position[i]\n",
    "    )\n",
    "    snap.particles.mass[i] = np.sum(snap.particles.mass[inds])"
   ]
  },
  {
   "cell_type": "code",
   "execution_count": null,
   "metadata": {},
   "outputs": [],
   "source": [
    "# need to reinitialize\n",
    "sim.system_definition.initializeFromSnapshot(snap)"
   ]
  },
  {
   "cell_type": "code",
   "execution_count": null,
   "metadata": {},
   "outputs": [],
   "source": [
    "nl = sim.neighbor_lists[0]\n",
    "ex_list = nl.exclusions \n",
    "ex_list.append('body')\n",
    "sim.neighbor_lists[0].reset_exclusions(exclusions=ex_list)\n",
    "\n",
    "print(sim.neighbor_lists[0].exclusions)"
   ]
  },
  {
   "cell_type": "code",
   "execution_count": null,
   "metadata": {},
   "outputs": [],
   "source": [
    "with sim:\n",
    "    rigid = hoomd.md.constrain.rigid()\n",
    "    \n",
    "    r_pos = snap.particles.position[0]\n",
    "    const_pos = snap.particles.position[rings[0]+len(rings)]\n",
    "    const_pos -= r_pos\n",
    "    #print(r_pos,const_pos)\n",
    "    \n",
    "    const_types = [snap.particles.types[i] for i in snap.particles.typeid[rings[0]+len(rings)]]\n",
    "    #print(const_types)\n",
    "    \n",
    "    rigid.set_param(\"_R\", types=const_types, positions=[tuple(i) for i in const_pos])\n",
    "    rigid.validate_bodies()\n",
    "    \n",
    "    lj = sim.forces[0]\n",
    "    lj.pair_coeff.set(\"_R\", snap.particles.types, epsilon=0, sigma=0)\n",
    "    \n",
    "    centers = hoomd.group.rigid_center()\n",
    "    nonrigid = hoomd.group.nonrigid()\n",
    "    _all = hoomd.group.all()\n",
    "    \n",
    "    hoomd.md.integrate.mode_standard(dt=0.0001);\n",
    "    hoomd.md.integrate.langevin(group=centers, kT=1.0, seed=42);\n",
    "    hoomd.md.integrate.langevin(group=nonrigid, kT=1.0, seed=42);\n",
    "    hoomd.dump.gsd(filename=\"start.gsd\", overwrite=True, period=None, group=_all, time_step=0)\n",
    "    hoomd.dump.gsd(\"trajectory.gsd\", period=1e3, group=_all, overwrite=True)\n",
    "    hoomd.run(5e4)"
   ]
  },
  {
   "cell_type": "code",
   "execution_count": null,
   "metadata": {},
   "outputs": [],
   "source": [
    "with sim:\n",
    "    hoomd.dump.gsd(filename=\"after.gsd\", overwrite=True, period=None, group=hoomd.group.all())"
   ]
  },
  {
   "cell_type": "code",
   "execution_count": null,
   "metadata": {},
   "outputs": [],
   "source": []
  }
 ],
 "metadata": {
  "kernelspec": {
   "display_name": "Python 3",
   "language": "python",
   "name": "python3"
  },
  "language_info": {
   "codemirror_mode": {
    "name": "ipython",
    "version": 3
   },
   "file_extension": ".py",
   "mimetype": "text/x-python",
   "name": "python",
   "nbconvert_exporter": "python",
   "pygments_lexer": "ipython3",
   "version": "3.7.8"
  }
 },
 "nbformat": 4,
 "nbformat_minor": 4
}
