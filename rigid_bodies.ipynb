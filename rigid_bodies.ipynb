{
 "cells": [
  {
   "cell_type": "markdown",
   "metadata": {},
   "source": [
    "# Rigid Bodies"
   ]
  },
  {
   "cell_type": "code",
   "execution_count": 1,
   "metadata": {},
   "outputs": [
    {
     "name": "stderr",
     "output_type": "stream",
     "text": [
      "/Users/jenny/miniconda3/envs/planckton-dev/lib/python3.7/site-packages/mdtraj/core/trajectory.py:32: DeprecationWarning: Using or importing the ABCs from 'collections' instead of from 'collections.abc' is deprecated since Python 3.3,and in 3.9 it will stop working\n",
      "  from collections import Iterable\n"
     ]
    },
    {
     "name": "stdout",
     "output_type": "stream",
     "text": [
      "{'opv_gaff': <foyer.forcefield.Forcefield object at 0x1487914d0>, 'opls-custom': <foyer.forcefield.Forcefield object at 0x1489d3350>}\n"
     ]
    }
   ],
   "source": [
    "import warnings\n",
    "warnings.simplefilter(\"ignore\")\n",
    "\n",
    "import os \n",
    "\n",
    "import foyer\n",
    "import hoomd\n",
    "from hoomd.data import make_snapshot\n",
    "import mbuild as mb\n",
    "from mbuild.formats.hoomd_simulation import create_hoomd_simulation\n",
    "import numpy as np\n",
    "import matplotlib.pyplot as plt\n",
    "\n",
    "from planckton.utils.rigid import connect_rings, moit, init_rigid\n",
    "from planckton.utils.utils import set_coeffs\n",
    "from planckton.init import Compound, Pack"
   ]
  },
  {
   "cell_type": "markdown",
   "metadata": {},
   "source": [
    "# trying to modify planckton's init and sim functions"
   ]
  },
  {
   "cell_type": "code",
   "execution_count": 2,
   "metadata": {},
   "outputs": [],
   "source": [
    "from planckton.compounds import COMPOUND_FILE                                   \n",
    "from planckton.force_fields import FORCE_FIELD \n",
    "from planckton.sim import Simulation"
   ]
  },
  {
   "cell_type": "code",
   "execution_count": 3,
   "metadata": {},
   "outputs": [
    {
     "name": "stdout",
     "output_type": "stream",
     "text": [
      "['CZTPTZITIC', 'P3HT', 'P3HT_16', 'PTB7', 'CZTPTZ8FITIC', 'ITIC', 'PCBM', 'IDT-2BR', 'EH-IDTBR', 'IEICO', 'TruxTPITIC', 'PTB7_3mer', 'TruxTP6FITIC', 'ITIC-Th']\n"
     ]
    }
   ],
   "source": [
    "keys = list(COMPOUND_FILE.keys())\n",
    "print(keys)"
   ]
  },
  {
   "cell_type": "code",
   "execution_count": 14,
   "metadata": {},
   "outputs": [],
   "source": [
    "#compound_name = keys[0]\n",
    "cztp = Compound(COMPOUND_FILE[keys[0]], rigid=True)   \n",
    "p3ht = Compound(COMPOUND_FILE[keys[3]], rigid=True)  "
   ]
  },
  {
   "cell_type": "code",
   "execution_count": 21,
   "metadata": {},
   "outputs": [
    {
     "name": "stdout",
     "output_type": "stream",
     "text": [
      "notice(2): Group \"all\" created containing 332 particles\n",
      "notice(2): -- Neighborlist exclusion statistics -- :\n",
      "notice(2): Particles with 0 exclusions             : 10\n",
      "notice(2): Particles with 2 exclusions             : 8\n",
      "notice(2): Particles with 3 exclusions             : 52\n",
      "notice(2): Particles with 4 exclusions             : 90\n",
      "notice(2): Particles with 6 exclusions             : 16\n",
      "notice(2): Particles with 7 exclusions             : 60\n",
      "notice(2): Particles with 8 exclusions             : 20\n",
      "notice(2): Particles with 9 exclusions             : 44\n",
      "notice(2): Particles with 10 exclusions             : 30\n",
      "notice(2): Particles with 12 exclusions             : 2\n",
      "notice(2): Neighbors included by diameter          : no\n",
      "notice(2): Neighbors excluded when in the same body: no\n",
      "Processing LJ and QQ\n",
      "notice(2): Group \"charged\" created containing 0 particles\n",
      "No charged groups found, ignoring electrostatics\n",
      "Processing 1-4 interactions, adjusting neighborlist exclusions\n",
      "Processing harmonic bonds\n",
      "Processing harmonic angles\n",
      "Processing periodic torsions\n",
      "HOOMD SimulationContext updated from ParmEd Structure\n",
      "notice(2): -- Neighborlist exclusion statistics -- :\n",
      "notice(2): Particles with 0 exclusions             : 10\n",
      "notice(2): Particles with 4 exclusions             : 8\n",
      "notice(2): Particles with 6 exclusions             : 12\n",
      "notice(2): Particles with 7 exclusions             : 72\n",
      "notice(2): Particles with 8 exclusions             : 4\n",
      "notice(2): Particles with 10 exclusions             : 72\n",
      "notice(2): Particles with 11 exclusions             : 4\n",
      "notice(2): Particles with 12 exclusions             : 42\n",
      "notice(2): Particles with 13 exclusions             : 12\n",
      "notice(2): Particles with 14 exclusions             : 24\n",
      "notice(2): Particles with 15 exclusions             : 20\n",
      "notice(2): Particles with 16 exclusions             : 36\n",
      "notice(2): Particles with more than 16 exclusions: 16\n",
      "notice(2): Neighbors included by diameter          : no\n",
      "notice(2): Neighbors excluded when in the same body: yes\n",
      "notice(2): Group \"rigid_center\" created containing 10 particles\n",
      "notice(2): Group \"nonrigid\" created containing 196 particles\n",
      "notice(2): Group \"both\" created containing 206 particles\n",
      "notice(2): -- Neighborlist exclusion statistics -- :\n",
      "notice(2): Particles with 0 exclusions             : 10\n",
      "notice(2): Particles with 4 exclusions             : 8\n",
      "notice(2): Particles with 6 exclusions             : 12\n",
      "notice(2): Particles with 7 exclusions             : 72\n",
      "notice(2): Particles with 8 exclusions             : 4\n",
      "notice(2): Particles with 10 exclusions             : 72\n",
      "notice(2): Particles with 11 exclusions             : 4\n",
      "notice(2): Particles with 12 exclusions             : 42\n",
      "notice(2): Particles with 13 exclusions             : 12\n",
      "notice(2): Particles with 14 exclusions             : 24\n",
      "notice(2): Particles with 15 exclusions             : 20\n",
      "notice(2): Particles with 16 exclusions             : 36\n",
      "notice(2): Particles with more than 16 exclusions: 16\n",
      "notice(2): Neighbors included by diameter          : no\n",
      "notice(2): Neighbors excluded when in the same body: yes\n",
      "** starting run **\n",
      "Time 00:00:01 | Step 1000 / 1000 | TPS 649.968 | ETA 00:00:00\n",
      "Average TPS: 649.567\n",
      "---------\n",
      "-- Neighborlist stats:\n",
      "17 normal updates / 10 forced updates / 0 dangerous updates\n",
      "n_neigh_min: 0 / n_neigh_max: 29 / n_neigh_avg: 7.20783\n",
      "shortest rebuild period: 32\n",
      "-- Cell list stats:\n",
      "Dimension: 66, 66, 66\n",
      "n_min    : 0 / n_max: 19 / n_avg: 0.0011548\n",
      "** run complete **\n",
      "** starting run **\n",
      "Time 00:00:02 | Step 3001 / 3001 | TPS 1934.49 | ETA 00:00:00\n",
      "Average TPS: 1932.33\n",
      "---------\n",
      "-- Neighborlist stats:\n",
      "19 normal updates / 21 forced updates / 0 dangerous updates\n",
      "n_neigh_min: 0 / n_neigh_max: 31 / n_neigh_avg: 6.93072\n",
      "shortest rebuild period: 56\n",
      "-- Cell list stats:\n",
      "Dimension: 66, 66, 66\n",
      "n_min    : 0 / n_max: 17 / n_avg: 0.0011548\n",
      "** run complete **\n",
      "CZTPTZITIC worked!\n",
      "notice(2): Group \"all\" created containing 784 particles\n",
      "notice(2): -- Neighborlist exclusion statistics -- :\n",
      "notice(2): Particles with 0 exclusions             : 30\n",
      "notice(2): Particles with 3 exclusions             : 34\n",
      "notice(2): Particles with 4 exclusions             : 390\n",
      "notice(2): Particles with 6 exclusions             : 34\n",
      "notice(2): Particles with 7 exclusions             : 60\n",
      "notice(2): Particles with 8 exclusions             : 56\n",
      "notice(2): Particles with 9 exclusions             : 30\n",
      "notice(2): Particles with 10 exclusions             : 150\n",
      "notice(2): Neighbors included by diameter          : no\n",
      "notice(2): Neighbors excluded when in the same body: no\n",
      "Processing LJ and QQ\n",
      "notice(2): Group \"charged\" created containing 0 particles\n",
      "No charged groups found, ignoring electrostatics\n",
      "Processing 1-4 interactions, adjusting neighborlist exclusions\n",
      "Processing harmonic bonds\n",
      "Processing harmonic angles\n",
      "Processing periodic torsions\n",
      "HOOMD SimulationContext updated from ParmEd Structure\n",
      "notice(2): -- Neighborlist exclusion statistics -- :\n",
      "notice(2): Particles with 0 exclusions             : 30\n",
      "notice(2): Particles with 6 exclusions             : 4\n",
      "notice(2): Particles with 7 exclusions             : 120\n",
      "notice(2): Particles with 8 exclusions             : 2\n",
      "notice(2): Particles with 9 exclusions             : 60\n",
      "notice(2): Particles with 10 exclusions             : 274\n",
      "notice(2): Particles with 11 exclusions             : 4\n",
      "notice(2): Particles with 12 exclusions             : 26\n",
      "notice(2): Particles with 13 exclusions             : 86\n",
      "notice(2): Particles with 14 exclusions             : 2\n",
      "notice(2): Particles with 15 exclusions             : 30\n",
      "notice(2): Particles with 16 exclusions             : 146\n",
      "notice(2): Neighbors included by diameter          : no\n",
      "notice(2): Neighbors excluded when in the same body: yes\n"
     ]
    },
    {
     "name": "stderr",
     "output_type": "stream",
     "text": [
      "**ERROR**: constrain.rigid(): Constituent particle types must be consistent with rigid body parameters.\n"
     ]
    },
    {
     "name": "stdout",
     "output_type": "stream",
     "text": [
      "P3HT didn't work!\n",
      "notice(2): Group \"all\" created containing 836 particles\n",
      "notice(2): -- Neighborlist exclusion statistics -- :\n",
      "notice(2): Particles with 0 exclusions             : 32\n",
      "notice(2): Particles with 3 exclusions             : 36\n",
      "notice(2): Particles with 4 exclusions             : 416\n",
      "notice(2): Particles with 6 exclusions             : 36\n",
      "notice(2): Particles with 7 exclusions             : 64\n",
      "notice(2): Particles with 8 exclusions             : 60\n",
      "notice(2): Particles with 9 exclusions             : 32\n",
      "notice(2): Particles with 10 exclusions             : 160\n",
      "notice(2): Neighbors included by diameter          : no\n",
      "notice(2): Neighbors excluded when in the same body: no\n",
      "Processing LJ and QQ\n",
      "notice(2): Group \"charged\" created containing 0 particles\n",
      "No charged groups found, ignoring electrostatics\n",
      "Processing 1-4 interactions, adjusting neighborlist exclusions\n",
      "Processing harmonic bonds\n",
      "Processing harmonic angles\n",
      "Processing periodic torsions\n",
      "HOOMD SimulationContext updated from ParmEd Structure\n",
      "notice(2): -- Neighborlist exclusion statistics -- :\n",
      "notice(2): Particles with 0 exclusions             : 32\n",
      "notice(2): Particles with 6 exclusions             : 4\n",
      "notice(2): Particles with 7 exclusions             : 128\n",
      "notice(2): Particles with 8 exclusions             : 2\n",
      "notice(2): Particles with 9 exclusions             : 64\n",
      "notice(2): Particles with 10 exclusions             : 292\n",
      "notice(2): Particles with 11 exclusions             : 4\n",
      "notice(2): Particles with 12 exclusions             : 28\n",
      "notice(2): Particles with 13 exclusions             : 92\n",
      "notice(2): Particles with 14 exclusions             : 2\n",
      "notice(2): Particles with 15 exclusions             : 32\n",
      "notice(2): Particles with 16 exclusions             : 156\n",
      "notice(2): Neighbors included by diameter          : no\n",
      "notice(2): Neighbors excluded when in the same body: yes\n"
     ]
    },
    {
     "name": "stderr",
     "output_type": "stream",
     "text": [
      "**ERROR**: constrain.rigid(): Constituent particle types must be consistent with rigid body parameters.\n"
     ]
    },
    {
     "name": "stdout",
     "output_type": "stream",
     "text": [
      "P3HT_16 didn't work!\n",
      "notice(2): Group \"all\" created containing 214 particles\n",
      "notice(2): -- Neighborlist exclusion statistics -- :\n",
      "notice(2): Particles with 0 exclusions             : 4\n",
      "notice(2): Particles with 3 exclusions             : 12\n",
      "notice(2): Particles with 4 exclusions             : 102\n",
      "notice(2): Particles with 6 exclusions             : 14\n",
      "notice(2): Particles with 7 exclusions             : 24\n",
      "notice(2): Particles with 8 exclusions             : 22\n",
      "notice(2): Particles with 9 exclusions             : 6\n",
      "notice(2): Particles with 10 exclusions             : 24\n",
      "notice(2): Particles with 13 exclusions             : 6\n",
      "notice(2): Neighbors included by diameter          : no\n",
      "notice(2): Neighbors excluded when in the same body: no\n",
      "Processing LJ and QQ\n",
      "notice(2): Group \"charged\" created containing 0 particles\n",
      "No charged groups found, ignoring electrostatics\n",
      "Processing 1-4 interactions, adjusting neighborlist exclusions\n",
      "Processing harmonic bonds\n",
      "Processing harmonic angles\n",
      "Processing periodic torsions\n",
      "HOOMD SimulationContext updated from ParmEd Structure\n",
      "notice(2): -- Neighborlist exclusion statistics -- :\n",
      "notice(2): Particles with 0 exclusions             : 4\n",
      "notice(2): Particles with 6 exclusions             : 6\n",
      "notice(2): Particles with 7 exclusions             : 42\n",
      "notice(2): Particles with 8 exclusions             : 14\n",
      "notice(2): Particles with 10 exclusions             : 68\n",
      "notice(2): Particles with 11 exclusions             : 4\n",
      "notice(2): Particles with 12 exclusions             : 12\n",
      "notice(2): Particles with 13 exclusions             : 16\n",
      "notice(2): Particles with 14 exclusions             : 14\n",
      "notice(2): Particles with 16 exclusions             : 18\n",
      "notice(2): Particles with more than 16 exclusions: 16\n",
      "notice(2): Neighbors included by diameter          : no\n",
      "notice(2): Neighbors excluded when in the same body: yes\n",
      "notice(2): Group \"rigid_center\" created containing 4 particles\n",
      "notice(2): Group \"nonrigid\" created containing 170 particles\n",
      "notice(2): Group \"both\" created containing 174 particles\n",
      "notice(2): -- Neighborlist exclusion statistics -- :\n",
      "notice(2): Particles with 0 exclusions             : 4\n",
      "notice(2): Particles with 6 exclusions             : 6\n",
      "notice(2): Particles with 7 exclusions             : 42\n",
      "notice(2): Particles with 8 exclusions             : 14\n",
      "notice(2): Particles with 10 exclusions             : 68\n",
      "notice(2): Particles with 11 exclusions             : 4\n",
      "notice(2): Particles with 12 exclusions             : 12\n",
      "notice(2): Particles with 13 exclusions             : 16\n",
      "notice(2): Particles with 14 exclusions             : 14\n",
      "notice(2): Particles with 16 exclusions             : 18\n",
      "notice(2): Particles with more than 16 exclusions: 16\n",
      "notice(2): Neighbors included by diameter          : no\n",
      "notice(2): Neighbors excluded when in the same body: yes\n",
      "** starting run **\n",
      "Time 00:00:01 | Step 1000 / 1000 | TPS 732.124 | ETA 00:00:00\n",
      "Average TPS: 731.447\n",
      "---------\n",
      "-- Neighborlist stats:\n",
      "24 normal updates / 10 forced updates / 0 dangerous updates\n",
      "n_neigh_min: 0 / n_neigh_max: 21 / n_neigh_avg: 7.14019\n",
      "shortest rebuild period: 23\n",
      "-- Cell list stats:\n",
      "Dimension: 55, 55, 55\n",
      "n_min    : 0 / n_max: 18 / n_avg: 0.00128625\n",
      "** run complete **\n",
      "** starting run **\n",
      "Time 00:00:02 | Step 3001 / 3001 | TPS 2282.1 | ETA 00:00:00\n",
      "Average TPS: 2278.5\n",
      "---------\n",
      "-- Neighborlist stats:\n",
      "29 normal updates / 21 forced updates / 0 dangerous updates\n",
      "n_neigh_min: 0 / n_neigh_max: 24 / n_neigh_avg: 7.58879\n",
      "shortest rebuild period: 32\n",
      "-- Cell list stats:\n",
      "Dimension: 55, 55, 55\n",
      "n_min    : 0 / n_max: 18 / n_avg: 0.00128625\n",
      "** run complete **\n",
      "PTB7 worked!\n",
      "notice(2): Group \"all\" created containing 332 particles\n",
      "notice(2): -- Neighborlist exclusion statistics -- :\n",
      "notice(2): Particles with 0 exclusions             : 10\n",
      "notice(2): Particles with 2 exclusions             : 8\n",
      "notice(2): Particles with 3 exclusions             : 52\n",
      "notice(2): Particles with 4 exclusions             : 90\n",
      "notice(2): Particles with 6 exclusions             : 16\n",
      "notice(2): Particles with 7 exclusions             : 60\n",
      "notice(2): Particles with 8 exclusions             : 20\n",
      "notice(2): Particles with 9 exclusions             : 44\n",
      "notice(2): Particles with 10 exclusions             : 30\n",
      "notice(2): Particles with 12 exclusions             : 2\n",
      "notice(2): Neighbors included by diameter          : no\n",
      "notice(2): Neighbors excluded when in the same body: no\n",
      "Processing LJ and QQ\n",
      "notice(2): Group \"charged\" created containing 0 particles\n",
      "No charged groups found, ignoring electrostatics\n",
      "Processing 1-4 interactions, adjusting neighborlist exclusions\n",
      "Processing harmonic bonds\n",
      "Processing harmonic angles\n",
      "Processing periodic torsions\n",
      "HOOMD SimulationContext updated from ParmEd Structure\n",
      "notice(2): -- Neighborlist exclusion statistics -- :\n",
      "notice(2): Particles with 0 exclusions             : 10\n",
      "notice(2): Particles with 4 exclusions             : 8\n",
      "notice(2): Particles with 6 exclusions             : 12\n",
      "notice(2): Particles with 7 exclusions             : 72\n",
      "notice(2): Particles with 8 exclusions             : 4\n",
      "notice(2): Particles with 10 exclusions             : 72\n",
      "notice(2): Particles with 11 exclusions             : 4\n",
      "notice(2): Particles with 12 exclusions             : 42\n",
      "notice(2): Particles with 13 exclusions             : 12\n",
      "notice(2): Particles with 14 exclusions             : 24\n",
      "notice(2): Particles with 15 exclusions             : 20\n",
      "notice(2): Particles with 16 exclusions             : 36\n",
      "notice(2): Particles with more than 16 exclusions: 16\n",
      "notice(2): Neighbors included by diameter          : no\n",
      "notice(2): Neighbors excluded when in the same body: yes\n"
     ]
    },
    {
     "name": "stderr",
     "output_type": "stream",
     "text": [
      "**ERROR**: constrain.rigid(): Constituent particle types must be consistent with rigid body parameters.\n"
     ]
    },
    {
     "name": "stdout",
     "output_type": "stream",
     "text": [
      "CZTPTZ8FITIC didn't work!\n",
      "notice(2): Group \"all\" created containing 386 particles\n",
      "notice(2): -- Neighborlist exclusion statistics -- :\n",
      "notice(2): Particles with 0 exclusions             : 14\n",
      "notice(2): Particles with 2 exclusions             : 8\n",
      "notice(2): Particles with 3 exclusions             : 64\n",
      "notice(2): Particles with 4 exclusions             : 112\n",
      "notice(2): Particles with 6 exclusions             : 8\n",
      "notice(2): Particles with 7 exclusions             : 76\n",
      "notice(2): Particles with 8 exclusions             : 16\n",
      "notice(2): Particles with 9 exclusions             : 28\n",
      "notice(2): Particles with 10 exclusions             : 56\n",
      "notice(2): Particles with 12 exclusions             : 4\n",
      "notice(2): Neighbors included by diameter          : no\n",
      "notice(2): Neighbors excluded when in the same body: no\n",
      "Processing LJ and QQ\n",
      "notice(2): Group \"charged\" created containing 0 particles\n",
      "No charged groups found, ignoring electrostatics\n",
      "Processing 1-4 interactions, adjusting neighborlist exclusions\n",
      "Processing harmonic bonds\n",
      "Processing harmonic angles\n",
      "Processing periodic torsions\n",
      "HOOMD SimulationContext updated from ParmEd Structure\n",
      "notice(2): -- Neighborlist exclusion statistics -- :\n",
      "notice(2): Particles with 0 exclusions             : 14\n",
      "notice(2): Particles with 4 exclusions             : 8\n",
      "notice(2): Particles with 7 exclusions             : 96\n",
      "notice(2): Particles with 9 exclusions             : 16\n",
      "notice(2): Particles with 10 exclusions             : 80\n",
      "notice(2): Particles with 11 exclusions             : 12\n",
      "notice(2): Particles with 12 exclusions             : 20\n",
      "notice(2): Particles with 13 exclusions             : 44\n",
      "notice(2): Particles with 14 exclusions             : 12\n",
      "notice(2): Particles with 15 exclusions             : 20\n",
      "notice(2): Particles with 16 exclusions             : 40\n",
      "notice(2): Particles with more than 16 exclusions: 24\n",
      "notice(2): Neighbors included by diameter          : no\n",
      "notice(2): Neighbors excluded when in the same body: yes\n"
     ]
    },
    {
     "name": "stderr",
     "output_type": "stream",
     "text": [
      "**ERROR**: constrain.rigid(): Constituent particle types must be consistent with rigid body parameters.\n"
     ]
    },
    {
     "name": "stdout",
     "output_type": "stream",
     "text": [
      "ITIC didn't work!\n"
     ]
    },
    {
     "ename": "KeyboardInterrupt",
     "evalue": "",
     "output_type": "error",
     "traceback": [
      "\u001b[0;31m---------------------------------------------------------------------------\u001b[0m",
      "\u001b[0;31mKeyboardInterrupt\u001b[0m                         Traceback (most recent call last)",
      "\u001b[0;32m<ipython-input-21-4c62fce5dbfd>\u001b[0m in \u001b[0;36m<module>\u001b[0;34m\u001b[0m\n\u001b[1;32m      1\u001b[0m \u001b[0;32mfor\u001b[0m \u001b[0mkey\u001b[0m \u001b[0;32min\u001b[0m \u001b[0mkeys\u001b[0m\u001b[0;34m:\u001b[0m\u001b[0;34m\u001b[0m\u001b[0;34m\u001b[0m\u001b[0m\n\u001b[1;32m      2\u001b[0m     \u001b[0;32mtry\u001b[0m\u001b[0;34m:\u001b[0m\u001b[0;34m\u001b[0m\u001b[0;34m\u001b[0m\u001b[0m\n\u001b[0;32m----> 3\u001b[0;31m         \u001b[0mcomp\u001b[0m \u001b[0;34m=\u001b[0m \u001b[0mCompound\u001b[0m\u001b[0;34m(\u001b[0m\u001b[0mCOMPOUND_FILE\u001b[0m\u001b[0;34m[\u001b[0m\u001b[0mkey\u001b[0m\u001b[0;34m]\u001b[0m\u001b[0;34m,\u001b[0m \u001b[0mrigid\u001b[0m\u001b[0;34m=\u001b[0m\u001b[0;32mTrue\u001b[0m\u001b[0;34m)\u001b[0m\u001b[0;34m\u001b[0m\u001b[0;34m\u001b[0m\u001b[0m\n\u001b[0m\u001b[1;32m      4\u001b[0m         \u001b[0mcompound\u001b[0m\u001b[0;34m=\u001b[0m\u001b[0;34m[\u001b[0m\u001b[0mcomp\u001b[0m\u001b[0;34m]\u001b[0m\u001b[0;34m\u001b[0m\u001b[0;34m\u001b[0m\u001b[0m\n\u001b[1;32m      5\u001b[0m         \u001b[0mn_compounds\u001b[0m\u001b[0;34m=\u001b[0m\u001b[0;34m[\u001b[0m\u001b[0;36m2\u001b[0m\u001b[0;34m]\u001b[0m\u001b[0;34m\u001b[0m\u001b[0;34m\u001b[0m\u001b[0m\n",
      "\u001b[0;32m~/Projects/planckton/planckton/init.py\u001b[0m in \u001b[0;36m__init__\u001b[0;34m(self, input_str, rigid)\u001b[0m\n\u001b[1;32m     31\u001b[0m             \u001b[0;31m# the compound should have\u001b[0m\u001b[0;34m\u001b[0m\u001b[0;34m\u001b[0m\u001b[0;34m\u001b[0m\u001b[0m\n\u001b[1;32m     32\u001b[0m             \u001b[0mmol\u001b[0m \u001b[0;34m=\u001b[0m \u001b[0mself\u001b[0m\u001b[0;34m.\u001b[0m\u001b[0mto_pybel\u001b[0m\u001b[0;34m(\u001b[0m\u001b[0;34m)\u001b[0m\u001b[0;34m\u001b[0m\u001b[0;34m\u001b[0m\u001b[0m\n\u001b[0;32m---> 33\u001b[0;31m             \u001b[0mself\u001b[0m\u001b[0;34m.\u001b[0m\u001b[0mrigid_inds\u001b[0m \u001b[0;34m=\u001b[0m \u001b[0msorted\u001b[0m\u001b[0;34m(\u001b[0m\u001b[0mconnect_rings\u001b[0m\u001b[0;34m(\u001b[0m\u001b[0mmol\u001b[0m\u001b[0;34m)\u001b[0m\u001b[0;34m,\u001b[0m \u001b[0mkey\u001b[0m\u001b[0;34m=\u001b[0m\u001b[0;32mlambda\u001b[0m \u001b[0mx\u001b[0m\u001b[0;34m:\u001b[0m \u001b[0mx\u001b[0m\u001b[0;34m[\u001b[0m\u001b[0;36m0\u001b[0m\u001b[0;34m]\u001b[0m\u001b[0;34m)\u001b[0m\u001b[0;34m\u001b[0m\u001b[0;34m\u001b[0m\u001b[0m\n\u001b[0m\u001b[1;32m     34\u001b[0m         \u001b[0;32melse\u001b[0m\u001b[0;34m:\u001b[0m\u001b[0;34m\u001b[0m\u001b[0;34m\u001b[0m\u001b[0m\n\u001b[1;32m     35\u001b[0m             \u001b[0mself\u001b[0m\u001b[0;34m.\u001b[0m\u001b[0mrigid_inds\u001b[0m \u001b[0;34m=\u001b[0m \u001b[0;32mNone\u001b[0m\u001b[0;34m\u001b[0m\u001b[0;34m\u001b[0m\u001b[0m\n",
      "\u001b[0;32m~/Projects/planckton/planckton/utils/rigid.py\u001b[0m in \u001b[0;36mconnect_rings\u001b[0;34m(mol)\u001b[0m\n\u001b[1;32m    125\u001b[0m     \u001b[0mconnected\u001b[0m \u001b[0;34m=\u001b[0m \u001b[0;32mFalse\u001b[0m\u001b[0;34m\u001b[0m\u001b[0;34m\u001b[0m\u001b[0m\n\u001b[1;32m    126\u001b[0m     \u001b[0;32mwhile\u001b[0m \u001b[0;32mnot\u001b[0m \u001b[0mconnected\u001b[0m\u001b[0;34m:\u001b[0m\u001b[0;34m\u001b[0m\u001b[0;34m\u001b[0m\u001b[0m\n\u001b[0;32m--> 127\u001b[0;31m         \u001b[0mrings\u001b[0m\u001b[0;34m,\u001b[0m \u001b[0mconnected\u001b[0m \u001b[0;34m=\u001b[0m \u001b[0m_check_rings\u001b[0m\u001b[0;34m(\u001b[0m\u001b[0mrings\u001b[0m\u001b[0;34m)\u001b[0m\u001b[0;34m\u001b[0m\u001b[0;34m\u001b[0m\u001b[0m\n\u001b[0m\u001b[1;32m    128\u001b[0m \u001b[0;34m\u001b[0m\u001b[0m\n\u001b[1;32m    129\u001b[0m     \u001b[0;31m# convert to numpy array so it can be used for indexing\u001b[0m\u001b[0;34m\u001b[0m\u001b[0;34m\u001b[0m\u001b[0;34m\u001b[0m\u001b[0m\n",
      "\u001b[0;32m~/Projects/planckton/planckton/utils/rigid.py\u001b[0m in \u001b[0;36m_check_rings\u001b[0;34m(rings)\u001b[0m\n\u001b[1;32m    155\u001b[0m         \u001b[0mconjugated\u001b[0m \u001b[0;34m=\u001b[0m \u001b[0;34m[\u001b[0m\u001b[0;34m]\u001b[0m\u001b[0;34m\u001b[0m\u001b[0;34m\u001b[0m\u001b[0m\n\u001b[1;32m    156\u001b[0m         \u001b[0;32mfor\u001b[0m \u001b[0mi\u001b[0m \u001b[0;32min\u001b[0m \u001b[0mnew_rings\u001b[0m\u001b[0;34m:\u001b[0m\u001b[0;34m\u001b[0m\u001b[0;34m\u001b[0m\u001b[0m\n\u001b[0;32m--> 157\u001b[0;31m             \u001b[0;32mif\u001b[0m \u001b[0mi\u001b[0m \u001b[0;32mnot\u001b[0m \u001b[0;32min\u001b[0m \u001b[0mconjugated\u001b[0m\u001b[0;34m:\u001b[0m\u001b[0;34m\u001b[0m\u001b[0;34m\u001b[0m\u001b[0m\n\u001b[0m\u001b[1;32m    158\u001b[0m                 \u001b[0mconjugated\u001b[0m\u001b[0;34m.\u001b[0m\u001b[0mappend\u001b[0m\u001b[0;34m(\u001b[0m\u001b[0mi\u001b[0m\u001b[0;34m)\u001b[0m\u001b[0;34m\u001b[0m\u001b[0;34m\u001b[0m\u001b[0m\n\u001b[1;32m    159\u001b[0m \u001b[0;34m\u001b[0m\u001b[0m\n",
      "\u001b[0;31mKeyboardInterrupt\u001b[0m: "
     ]
    }
   ],
   "source": [
    "for key in keys:\n",
    "    try:\n",
    "        comp = Compound(COMPOUND_FILE[key], rigid=True)\n",
    "        compound=[comp]\n",
    "        n_compounds=[2]\n",
    "\n",
    "        packer = Pack(compound,n_compounds,density=0.01)\n",
    "        #print(packer.rigid_typeids,packer.rigid_inds)\n",
    "        typed_system = packer.pack()\n",
    "        #print(*zip(packer.rigid_typeids,packer.rigid_inds),sep=\"\\n\")\n",
    "        hoomd.util.quiet_status()\n",
    "        my_sim = Simulation(                                                    \n",
    "            typed_system,                                                             \n",
    "            kT=3.0,                                                             \n",
    "            gsd_write=1e2,                                                      \n",
    "            log_write=1e2,                                                                                                              \n",
    "            rigid_inds=packer.rigid_inds, \n",
    "            rigid_typeids=packer.rigid_typeids,\n",
    "            n_steps=3e3,                                                        \n",
    "            mode=\"cpu\",                                                         \n",
    "            shrink_time=1e3,                                                    \n",
    "        )                                                                       \n",
    "        my_sim.run() \n",
    "        hoomd.util.unquiet_status()\n",
    "        print(f\"{key} worked!\")\n",
    "    except RuntimeError:\n",
    "        print(f\"{key} didn't work!\")"
   ]
  },
  {
   "cell_type": "code",
   "execution_count": 16,
   "metadata": {},
   "outputs": [
    {
     "name": "stdout",
     "output_type": "stream",
     "text": [
      "heck\n"
     ]
    }
   ],
   "source": [
    "rigid_typeids = packer.rigid_typeids\n",
    "rigid_inds = packer.rigid_inds\n",
    "if rigid_typeids and rigid_inds:\n",
    "    print(\"heck\")"
   ]
  },
  {
   "cell_type": "code",
   "execution_count": 17,
   "metadata": {},
   "outputs": [
    {
     "name": "stdout",
     "output_type": "stream",
     "text": [
      "notice(2): Group \"all\" created containing 214 particles\n",
      "notice(2): -- Neighborlist exclusion statistics -- :\n",
      "notice(2): Particles with 0 exclusions             : 4\n",
      "notice(2): Particles with 3 exclusions             : 12\n",
      "notice(2): Particles with 4 exclusions             : 102\n",
      "notice(2): Particles with 6 exclusions             : 14\n",
      "notice(2): Particles with 7 exclusions             : 24\n",
      "notice(2): Particles with 8 exclusions             : 22\n",
      "notice(2): Particles with 9 exclusions             : 6\n",
      "notice(2): Particles with 10 exclusions             : 24\n",
      "notice(2): Particles with 13 exclusions             : 6\n",
      "notice(2): Neighbors included by diameter          : no\n",
      "notice(2): Neighbors excluded when in the same body: no\n",
      "Processing LJ and QQ\n",
      "notice(2): Group \"charged\" created containing 0 particles\n",
      "No charged groups found, ignoring electrostatics\n",
      "Processing 1-4 interactions, adjusting neighborlist exclusions\n",
      "Processing harmonic bonds\n",
      "Processing harmonic angles\n",
      "Processing periodic torsions\n",
      "HOOMD SimulationContext updated from ParmEd Structure\n",
      "notice(2): -- Neighborlist exclusion statistics -- :\n",
      "notice(2): Particles with 0 exclusions             : 4\n",
      "notice(2): Particles with 6 exclusions             : 6\n",
      "notice(2): Particles with 7 exclusions             : 42\n",
      "notice(2): Particles with 8 exclusions             : 14\n",
      "notice(2): Particles with 10 exclusions             : 68\n",
      "notice(2): Particles with 11 exclusions             : 4\n",
      "notice(2): Particles with 12 exclusions             : 12\n",
      "notice(2): Particles with 13 exclusions             : 16\n",
      "notice(2): Particles with 14 exclusions             : 14\n",
      "notice(2): Particles with 16 exclusions             : 18\n",
      "notice(2): Particles with more than 16 exclusions: 16\n",
      "notice(2): Neighbors included by diameter          : no\n",
      "notice(2): Neighbors excluded when in the same body: yes\n",
      "notice(2): Group \"rigid_center\" created containing 4 particles\n",
      "notice(2): Group \"nonrigid\" created containing 170 particles\n",
      "notice(2): Group \"both\" created containing 174 particles\n",
      "notice(2): -- Neighborlist exclusion statistics -- :\n",
      "notice(2): Particles with 0 exclusions             : 4\n",
      "notice(2): Particles with 6 exclusions             : 6\n",
      "notice(2): Particles with 7 exclusions             : 42\n",
      "notice(2): Particles with 8 exclusions             : 14\n",
      "notice(2): Particles with 10 exclusions             : 68\n",
      "notice(2): Particles with 11 exclusions             : 4\n",
      "notice(2): Particles with 12 exclusions             : 12\n",
      "notice(2): Particles with 13 exclusions             : 16\n",
      "notice(2): Particles with 14 exclusions             : 14\n",
      "notice(2): Particles with 16 exclusions             : 18\n",
      "notice(2): Particles with more than 16 exclusions: 16\n",
      "notice(2): Neighbors included by diameter          : no\n",
      "notice(2): Neighbors excluded when in the same body: yes\n",
      "** starting run **\n",
      "Time 00:00:01 | Step 1000 / 1000 | TPS 803.03 | ETA 00:00:00\n",
      "Average TPS: 802.269\n",
      "---------\n",
      "-- Neighborlist stats:\n",
      "24 normal updates / 10 forced updates / 0 dangerous updates\n",
      "n_neigh_min: 0 / n_neigh_max: 21 / n_neigh_avg: 7.14019\n",
      "shortest rebuild period: 23\n",
      "-- Cell list stats:\n",
      "Dimension: 55, 55, 55\n",
      "n_min    : 0 / n_max: 18 / n_avg: 0.00128625\n",
      "** run complete **\n",
      "** starting run **\n",
      "Time 00:00:02 | Step 3001 / 3001 | TPS 2407.53 | ETA 00:00:00\n",
      "Average TPS: 2405\n",
      "---------\n",
      "-- Neighborlist stats:\n",
      "29 normal updates / 21 forced updates / 0 dangerous updates\n",
      "n_neigh_min: 0 / n_neigh_max: 24 / n_neigh_avg: 7.58879\n",
      "shortest rebuild period: 32\n",
      "-- Cell list stats:\n",
      "Dimension: 55, 55, 55\n",
      "n_min    : 0 / n_max: 18 / n_avg: 0.00128625\n",
      "** run complete **\n"
     ]
    }
   ],
   "source": [
    "my_sim = Simulation(                                                    \n",
    "    typed_system,                                                             \n",
    "    kT=3.0,                                                             \n",
    "    gsd_write=1e2,                                                      \n",
    "    log_write=1e2,                                                                                                              \n",
    "    rigid_inds=packer.rigid_inds, \n",
    "    rigid_typeids=packer.rigid_typeids,\n",
    "    n_steps=3e3,                                                        \n",
    "    mode=\"cpu\",                                                         \n",
    "    shrink_time=1e3,                                                    \n",
    ")                                                                       \n",
    "my_sim.run() "
   ]
  },
  {
   "cell_type": "code",
   "execution_count": 5,
   "metadata": {},
   "outputs": [
    {
     "name": "stdout",
     "output_type": "stream",
     "text": [
      "[] []\n",
      "(0, array([ 0,  1,  2,  3,  4,  5,  6,  7,  8,  9, 10, 11, 12, 13, 14, 15, 16,\n",
      "       17, 18, 19, 47, 48, 49, 50, 51, 52, 53]))\n",
      "(1, array([20, 21, 22, 23, 24, 25, 26, 27, 28]))\n",
      "(2, array([54, 55, 56, 57, 58, 59, 60, 61, 62]))\n",
      "(3, array([116, 117, 118, 119, 120, 121, 122, 123, 124]))\n",
      "(4, array([131, 132, 133, 134, 135, 138, 139, 140, 141]))\n",
      "(0, array([161, 162, 163, 164, 165, 166, 167, 168, 169, 170, 171, 172, 173,\n",
      "       174, 175, 176, 177, 178, 179, 180, 208, 209, 210, 211, 212, 213,\n",
      "       214]))\n",
      "(1, array([181, 182, 183, 184, 185, 186, 187, 188, 189]))\n",
      "(2, array([215, 216, 217, 218, 219, 220, 221, 222, 223]))\n",
      "(3, array([277, 278, 279, 280, 281, 282, 283, 284, 285]))\n",
      "(4, array([292, 293, 294, 295, 296, 299, 300, 301, 302]))\n"
     ]
    }
   ],
   "source": [
    "compound=[cztp, p3ht]\n",
    "n_compounds=[2,3]\n",
    "\n",
    "packer = Pack(compound,n_compounds,density=0.01)\n",
    "print(packer.rigid_typeids,packer.rigid_inds)\n",
    "typed_system = packer.pack()\n",
    "print(*zip(packer.rigid_typeids,packer.rigid_inds),sep=\"\\n\")"
   ]
  },
  {
   "cell_type": "code",
   "execution_count": 6,
   "metadata": {},
   "outputs": [],
   "source": [
    "rigid_typeids= packer.rigid_typeids\n",
    "rigid_inds = packer.rigid_inds"
   ]
  },
  {
   "cell_type": "code",
   "execution_count": 7,
   "metadata": {},
   "outputs": [
    {
     "name": "stdout",
     "output_type": "stream",
     "text": [
      "HOOMD-blue 2.9.3 DOUBLE HPMC_MIXED TBB SSE SSE2 SSE3 \n",
      "Compiled: 10/17/2020\n",
      "Copyright (c) 2009-2019 The Regents of the University of Michigan.\n",
      "-----\n",
      "You are using HOOMD-blue. Please cite the following:\n",
      "* J A Anderson, J Glaser, and S C Glotzer. \"HOOMD-blue: A Python package for\n",
      "  high-performance molecular dynamics and hard particle Monte Carlo\n",
      "  simulations\", Computational Materials Science 173 (2020) 109363\n",
      "-----\n",
      "HOOMD-blue is running on the CPU\n"
     ]
    }
   ],
   "source": [
    "# Determine how many rigid bodies the system should have                    \n",
    "sim = hoomd.context.initialize(\"\")\n",
    "n_bodies = len(rigid_inds)                                                  \n",
    "with sim:                                                                   \n",
    "    # Make an initial snapshot with only rigid bodies                       \n",
    "    # --the box length doesn't matter                                       \n",
    "    init_snap = make_snapshot(                                              \n",
    "        N=n_bodies, particle_types=[\"_R\"], box=hoomd.data.boxdim(L=10)      \n",
    "    )                                                                                                                  "
   ]
  },
  {
   "cell_type": "code",
   "execution_count": 13,
   "metadata": {},
   "outputs": [
    {
     "name": "stdout",
     "output_type": "stream",
     "text": [
      "['_R0', '_R1', '_R2', '_R3', '_R4']\n",
      "[0 1 2 3 4 0 1 2 3 4]\n"
     ]
    }
   ],
   "source": [
    "init_snap.particles.types = [f\"_R{i}\" for i in range(max(rigid_typeids)+1)]\n",
    "print(init_snap.particles.types)\n",
    "init_snap.particles.typeid[:] = rigid_typeids\n",
    "print(init_snap.particles.typeid)"
   ]
  },
  {
   "cell_type": "code",
   "execution_count": 14,
   "metadata": {},
   "outputs": [
    {
     "name": "stdout",
     "output_type": "stream",
     "text": [
      "notice(2): Group \"all\" created containing 1463 particles\n",
      "notice(2): -- Neighborlist exclusion statistics -- :\n",
      "notice(2): Particles with 0 exclusions             : 10\n",
      "notice(2): Particles with 2 exclusions             : 8\n",
      "notice(2): Particles with 3 exclusions             : 103\n",
      "notice(2): Particles with 4 exclusions             : 675\n",
      "notice(2): Particles with 6 exclusions             : 67\n",
      "notice(2): Particles with 7 exclusions             : 150\n",
      "notice(2): Particles with 8 exclusions             : 104\n",
      "notice(2): Particles with 9 exclusions             : 89\n",
      "notice(2): Particles with 10 exclusions             : 255\n",
      "notice(2): Particles with 12 exclusions             : 2\n",
      "notice(2): Neighbors included by diameter          : no\n",
      "notice(2): Neighbors excluded when in the same body: no\n",
      "Processing LJ and QQ\n",
      "notice(2): Group \"charged\" created containing 0 particles\n",
      "No charged groups found, ignoring electrostatics\n",
      "Processing 1-4 interactions, adjusting neighborlist exclusions\n",
      "Processing harmonic bonds\n",
      "Processing harmonic angles\n",
      "Processing periodic torsions\n",
      "HOOMD SimulationContext updated from ParmEd Structure\n"
     ]
    }
   ],
   "source": [
    "with sim:\n",
    "    # Add the typed system to this snapshot                                 \n",
    "    hoomd_objects, ref_values = create_hoomd_simulation(                    \n",
    "        typed_system, auto_scale=True, init_snap=init_snap                  \n",
    "    )                                                                       \n",
    "    snap = hoomd_objects[0]   "
   ]
  },
  {
   "cell_type": "code",
   "execution_count": null,
   "metadata": {},
   "outputs": [],
   "source": [
    "for i in range(max(rigid_typeids)+1):\n",
    "    # particles indices of the first instance center and constituent body for this rigid type\n",
    "    first_center = np.where(snap.particles.typeid == i)[0][0]\n",
    "    first_body = rigid_inds[rigid_typeids.index(i)]\n",
    "    \n",
    "    center_pos = snap.particles.position[first_center]\n",
    "    # body indices must be shifted by the added center particles\n",
    "    body_pos = snap.particles.position[first_body + n_bodies]\n",
    "    body_pos -= center_pos"
   ]
  },
  {
   "cell_type": "code",
   "execution_count": 52,
   "metadata": {},
   "outputs": [
    {
     "name": "stdout",
     "output_type": "stream",
     "text": [
      "4\n"
     ]
    },
    {
     "data": {
      "text/plain": [
       "array([131, 132, 133, 134, 135, 138, 139, 140, 141])"
      ]
     },
     "execution_count": 52,
     "metadata": {},
     "output_type": "execute_result"
    }
   ],
   "source": [
    "print(i)\n",
    "rigid_typeids.index(i)\n",
    "rigid_inds[rigid_typeids.index(i)]"
   ]
  },
  {
   "cell_type": "code",
   "execution_count": 38,
   "metadata": {},
   "outputs": [
    {
     "name": "stdout",
     "output_type": "stream",
     "text": [
      "87.7 µs ± 2.25 µs per loop (mean ± std. dev. of 7 runs, 10000 loops each)\n"
     ]
    }
   ],
   "source": [
    "%%timeit\n",
    "for i in range(max(rigid_typeids)+1):\n",
    "    #print(i)\n",
    "    first = snap.particles.typeid.tolist().index(i)"
   ]
  },
  {
   "cell_type": "code",
   "execution_count": 39,
   "metadata": {},
   "outputs": [
    {
     "name": "stdout",
     "output_type": "stream",
     "text": [
      "30.2 µs ± 823 ns per loop (mean ± std. dev. of 7 runs, 10000 loops each)\n"
     ]
    }
   ],
   "source": [
    "%%timeit\n",
    "for i in range(max(rigid_typeids)+1):\n",
    "    #print(i)\n",
    "    first = np.where(snap.particles.typeid == i)[0][0]"
   ]
  },
  {
   "cell_type": "code",
   "execution_count": 44,
   "metadata": {},
   "outputs": [
    {
     "name": "stdout",
     "output_type": "stream",
     "text": [
      "75.7 µs ± 1.53 µs per loop (mean ± std. dev. of 7 runs, 10000 loops each)\n"
     ]
    }
   ],
   "source": [
    "%%timeit\n",
    "for i in range(max(rigid_typeids)+1):\n",
    "    #print(i)\n",
    "    first = np.argwhere(snap.particles.typeid == i)[0][0]\n",
    "    #print(first)"
   ]
  },
  {
   "cell_type": "code",
   "execution_count": 27,
   "metadata": {},
   "outputs": [
    {
     "name": "stdout",
     "output_type": "stream",
     "text": [
      "_R0\n",
      "['_R', 'c', 'c3', 'ca', 'cc', 'cd', 'ce', 'cg', 'cp', 'h1', 'h4', 'ha', 'hc', 'n1', 'na', 'nc', 'o', 'ss']\n",
      "_R1\n",
      "['_R', 'c', 'c3', 'ca', 'cc', 'cd', 'ce', 'cg', 'cp', 'h1', 'h4', 'ha', 'hc', 'n1', 'na', 'nc', 'o', 'ss']\n",
      "_R2\n",
      "['_R', 'c', 'c3', 'ca', 'cc', 'cd', 'ce', 'cg', 'cp', 'h1', 'h4', 'ha', 'hc', 'n1', 'na', 'nc', 'o', 'ss']\n",
      "_R3\n",
      "['_R', 'c', 'c3', 'ca', 'cc', 'cd', 'ce', 'cg', 'cp', 'h1', 'h4', 'ha', 'hc', 'n1', 'na', 'nc', 'o', 'ss']\n",
      "_R4\n",
      "['_R', 'c', 'c3', 'ca', 'cc', 'cd', 'ce', 'cg', 'cp', 'h1', 'h4', 'ha', 'hc', 'n1', 'na', 'nc', 'o', 'ss']\n",
      "_R0\n",
      "['_R', 'c', 'c3', 'ca', 'cc', 'cd', 'ce', 'cg', 'cp', 'h1', 'h4', 'ha', 'hc', 'n1', 'na', 'nc', 'o', 'ss']\n",
      "_R1\n",
      "['_R', 'c', 'c3', 'ca', 'cc', 'cd', 'ce', 'cg', 'cp', 'h1', 'h4', 'ha', 'hc', 'n1', 'na', 'nc', 'o', 'ss']\n",
      "_R2\n",
      "['_R', 'c', 'c3', 'ca', 'cc', 'cd', 'ce', 'cg', 'cp', 'h1', 'h4', 'ha', 'hc', 'n1', 'na', 'nc', 'o', 'ss']\n",
      "_R3\n",
      "['_R', 'c', 'c3', 'ca', 'cc', 'cd', 'ce', 'cg', 'cp', 'h1', 'h4', 'ha', 'hc', 'n1', 'na', 'nc', 'o', 'ss']\n",
      "_R4\n",
      "['_R', 'c', 'c3', 'ca', 'cc', 'cd', 'ce', 'cg', 'cp', 'h1', 'h4', 'ha', 'hc', 'n1', 'na', 'nc', 'o', 'ss']\n"
     ]
    }
   ],
   "source": [
    "with sim:\n",
    "    for i, ring in enumerate(rigid_inds):                                                                    \n",
    "        # Indices of constituent particles                                  \n",
    "        inds = ring + n_bodies                                              \n",
    "                                                                            \n",
    "        # Move the rigid body centers\n",
    "        snap.particles.position[i] = np.mean(                               \n",
    "            snap.particles.position[inds], axis=0                           \n",
    "        )                                                                   \n",
    "                                                                            \n",
    "        # Set body tags                                                     \n",
    "        snap.particles.body[i] = i                                          \n",
    "        snap.particles.body[inds] = i * np.ones(len(ring))                  \n",
    "                                                                            \n",
    "        # Moment of inertia tensor                                          \n",
    "        snap.particles.moment_inertia[i] = moit(                            \n",
    "            snap.particles.position[inds],                                  \n",
    "            snap.particles.mass[inds],                                      \n",
    "            center=snap.particles.position[i],                              \n",
    "        )                                                                   \n",
    "                                                                            \n",
    "        # Mass                                                              \n",
    "        snap.particles.mass[i] = np.sum(snap.particles.mass[inds])"
   ]
  },
  {
   "cell_type": "code",
   "execution_count": 5,
   "metadata": {},
   "outputs": [
    {
     "name": "stdout",
     "output_type": "stream",
     "text": [
      "HOOMD-blue 2.9.3 DOUBLE HPMC_MIXED TBB SSE SSE2 SSE3 \n",
      "Compiled: 10/17/2020\n",
      "Copyright (c) 2009-2019 The Regents of the University of Michigan.\n",
      "-----\n",
      "You are using HOOMD-blue. Please cite the following:\n",
      "* J A Anderson, J Glaser, and S C Glotzer. \"HOOMD-blue: A Python package for\n",
      "  high-performance molecular dynamics and hard particle Monte Carlo\n",
      "  simulations\", Computational Materials Science 173 (2020) 109363\n",
      "-----\n",
      "HOOMD-blue is running on the CPU\n",
      "notice(2): Group \"all\" created containing 332 particles\n",
      "notice(2): -- Neighborlist exclusion statistics -- :\n",
      "notice(2): Particles with 0 exclusions             : 10\n",
      "notice(2): Particles with 2 exclusions             : 8\n",
      "notice(2): Particles with 3 exclusions             : 52\n",
      "notice(2): Particles with 4 exclusions             : 90\n",
      "notice(2): Particles with 6 exclusions             : 16\n",
      "notice(2): Particles with 7 exclusions             : 60\n",
      "notice(2): Particles with 8 exclusions             : 20\n",
      "notice(2): Particles with 9 exclusions             : 44\n",
      "notice(2): Particles with 10 exclusions             : 30\n",
      "notice(2): Particles with 12 exclusions             : 2\n",
      "notice(2): Neighbors included by diameter          : no\n",
      "notice(2): Neighbors excluded when in the same body: no\n",
      "Processing LJ and QQ\n",
      "notice(2): Group \"charged\" created containing 0 particles\n",
      "No charged groups found, ignoring electrostatics\n",
      "Processing 1-4 interactions, adjusting neighborlist exclusions\n",
      "Processing harmonic bonds\n",
      "Processing harmonic angles\n",
      "Processing periodic torsions\n",
      "HOOMD SimulationContext updated from ParmEd Structure\n",
      "notice(2): -- Neighborlist exclusion statistics -- :\n",
      "notice(2): Particles with 0 exclusions             : 10\n",
      "notice(2): Particles with 4 exclusions             : 8\n",
      "notice(2): Particles with 6 exclusions             : 12\n",
      "notice(2): Particles with 7 exclusions             : 72\n",
      "notice(2): Particles with 8 exclusions             : 4\n",
      "notice(2): Particles with 10 exclusions             : 72\n",
      "notice(2): Particles with 11 exclusions             : 4\n",
      "notice(2): Particles with 12 exclusions             : 42\n",
      "notice(2): Particles with 13 exclusions             : 12\n",
      "notice(2): Particles with 14 exclusions             : 24\n",
      "notice(2): Particles with 15 exclusions             : 20\n",
      "notice(2): Particles with 16 exclusions             : 36\n",
      "notice(2): Particles with more than 16 exclusions: 16\n",
      "notice(2): Neighbors included by diameter          : no\n",
      "notice(2): Neighbors excluded when in the same body: yes\n"
     ]
    },
    {
     "name": "stderr",
     "output_type": "stream",
     "text": [
      "**ERROR**: constrain.rigid(): Constituent particle types must be consistent with rigid body parameters.\n"
     ]
    },
    {
     "ename": "RuntimeError",
     "evalue": "Error validating rigid bodies\n",
     "output_type": "error",
     "traceback": [
      "\u001b[0;31m---------------------------------------------------------------------------\u001b[0m",
      "\u001b[0;31mRuntimeError\u001b[0m                              Traceback (most recent call last)",
      "\u001b[0;32m<ipython-input-5-623ad73b8c3a>\u001b[0m in \u001b[0;36m<module>\u001b[0;34m\u001b[0m\n\u001b[1;32m     10\u001b[0m     \u001b[0mshrink_time\u001b[0m\u001b[0;34m=\u001b[0m\u001b[0;36m1e3\u001b[0m\u001b[0;34m,\u001b[0m\u001b[0;34m\u001b[0m\u001b[0;34m\u001b[0m\u001b[0m\n\u001b[1;32m     11\u001b[0m )                                                                       \n\u001b[0;32m---> 12\u001b[0;31m \u001b[0mmy_sim\u001b[0m\u001b[0;34m.\u001b[0m\u001b[0mrun\u001b[0m\u001b[0;34m(\u001b[0m\u001b[0;34m)\u001b[0m\u001b[0;34m\u001b[0m\u001b[0;34m\u001b[0m\u001b[0m\n\u001b[0m",
      "\u001b[0;32m~/Projects/planckton/planckton/sim.py\u001b[0m in \u001b[0;36mrun\u001b[0;34m(self)\u001b[0m\n\u001b[1;32m     49\u001b[0m         \u001b[0;32mif\u001b[0m \u001b[0mself\u001b[0m\u001b[0;34m.\u001b[0m\u001b[0mrigid_system\u001b[0m \u001b[0;32mis\u001b[0m \u001b[0;32mnot\u001b[0m \u001b[0;32mNone\u001b[0m\u001b[0;34m:\u001b[0m\u001b[0;34m\u001b[0m\u001b[0;34m\u001b[0m\u001b[0m\n\u001b[1;32m     50\u001b[0m             both, snap, sim, ref_values = init_rigid(\n\u001b[0;32m---> 51\u001b[0;31m                 \u001b[0mself\u001b[0m\u001b[0;34m.\u001b[0m\u001b[0mrigid_system\u001b[0m\u001b[0;34m,\u001b[0m \u001b[0mself\u001b[0m\u001b[0;34m.\u001b[0m\u001b[0msystem\u001b[0m\u001b[0;34m,\u001b[0m \u001b[0msim\u001b[0m\u001b[0;34m\u001b[0m\u001b[0;34m\u001b[0m\u001b[0m\n\u001b[0m\u001b[1;32m     52\u001b[0m             )\n\u001b[1;32m     53\u001b[0m         \u001b[0;32melse\u001b[0m\u001b[0;34m:\u001b[0m\u001b[0;34m\u001b[0m\u001b[0;34m\u001b[0m\u001b[0m\n",
      "\u001b[0;32m~/Projects/planckton/planckton/utils/rigid.py\u001b[0m in \u001b[0;36minit_rigid\u001b[0;34m(system, typed_system, sim)\u001b[0m\n\u001b[1;32m     71\u001b[0m             \u001b[0;34m\"_R\"\u001b[0m\u001b[0;34m,\u001b[0m \u001b[0mtypes\u001b[0m\u001b[0;34m=\u001b[0m\u001b[0mconst_types\u001b[0m\u001b[0;34m,\u001b[0m \u001b[0mpositions\u001b[0m\u001b[0;34m=\u001b[0m\u001b[0;34m[\u001b[0m\u001b[0mtuple\u001b[0m\u001b[0;34m(\u001b[0m\u001b[0mi\u001b[0m\u001b[0;34m)\u001b[0m \u001b[0;32mfor\u001b[0m \u001b[0mi\u001b[0m \u001b[0;32min\u001b[0m \u001b[0mconst_pos\u001b[0m\u001b[0;34m]\u001b[0m\u001b[0;34m\u001b[0m\u001b[0;34m\u001b[0m\u001b[0m\n\u001b[1;32m     72\u001b[0m         )\n\u001b[0;32m---> 73\u001b[0;31m         \u001b[0mrigid\u001b[0m\u001b[0;34m.\u001b[0m\u001b[0mvalidate_bodies\u001b[0m\u001b[0;34m(\u001b[0m\u001b[0;34m)\u001b[0m\u001b[0;34m\u001b[0m\u001b[0;34m\u001b[0m\u001b[0m\n\u001b[0m\u001b[1;32m     74\u001b[0m \u001b[0;34m\u001b[0m\u001b[0m\n\u001b[1;32m     75\u001b[0m         \u001b[0;31m# add zero interactions for rigid body centers with all particles\u001b[0m\u001b[0;34m\u001b[0m\u001b[0;34m\u001b[0m\u001b[0;34m\u001b[0m\u001b[0m\n",
      "\u001b[0;32m~/miniconda3/envs/planckton-dev/lib/python3.7/site-packages/hoomd/md/constrain.py\u001b[0m in \u001b[0;36mvalidate_bodies\u001b[0;34m(self)\u001b[0m\n\u001b[1;32m    471\u001b[0m         R\"\"\" Validate that bodies are well defined and prepare for the simulation run.\n\u001b[1;32m    472\u001b[0m         \"\"\"\n\u001b[0;32m--> 473\u001b[0;31m         \u001b[0mself\u001b[0m\u001b[0;34m.\u001b[0m\u001b[0mcpp_force\u001b[0m\u001b[0;34m.\u001b[0m\u001b[0mvalidateRigidBodies\u001b[0m\u001b[0;34m(\u001b[0m\u001b[0;32mFalse\u001b[0m\u001b[0;34m)\u001b[0m\u001b[0;34m\u001b[0m\u001b[0;34m\u001b[0m\u001b[0m\n\u001b[0m\u001b[1;32m    474\u001b[0m \u001b[0;34m\u001b[0m\u001b[0m\n\u001b[1;32m    475\u001b[0m     \u001b[0;31m## \\internal\u001b[0m\u001b[0;34m\u001b[0m\u001b[0;34m\u001b[0m\u001b[0;34m\u001b[0m\u001b[0m\n",
      "\u001b[0;31mRuntimeError\u001b[0m: Error validating rigid bodies\n"
     ]
    }
   ],
   "source": [
    "my_sim = Simulation(                                                    \n",
    "    system,                                                             \n",
    "    kT=3.0,                                                             \n",
    "    gsd_write=1e2,                                                      \n",
    "    log_write=1e2,                                                      \n",
    "    e_factor=1,                                                         \n",
    "    rigid_system=rigid_system,                                          \n",
    "    n_steps=3e3,                                                        \n",
    "    mode=\"cpu\",                                                         \n",
    "    shrink_time=1e3,                                                    \n",
    ")                                                                       \n",
    "my_sim.run() "
   ]
  },
  {
   "cell_type": "code",
   "execution_count": 17,
   "metadata": {},
   "outputs": [],
   "source": [
    "comp = mb.load(COMPOUND_FILE[compound_name])\n",
    "#comp.visualize().show()"
   ]
  },
  {
   "cell_type": "code",
   "execution_count": 111,
   "metadata": {},
   "outputs": [
    {
     "name": "stdout",
     "output_type": "stream",
     "text": [
      "[{0, 1, 2, 3, 4}, {116, 117, 118, 119, 120}, {24, 25, 26, 27, 28}, {55, 56, 60, 61, 62}, {47, 48, 51, 52, 53}, {14, 15, 17, 18, 19}, {131, 132, 133, 134, 135}, {1, 2, 5, 6, 7, 8}, {11, 12, 47, 48, 49, 50}, {118, 120, 121, 122, 123, 124}, {20, 21, 22, 23, 24, 25}, {54, 55, 56, 57, 58, 59}, {3, 4, 9, 10, 11, 12}, {7, 8, 13, 14, 15, 16}, {134, 135, 138, 139, 140, 141}]\n"
     ]
    }
   ],
   "source": [
    "mol = comp.to_pybel()\n",
    "#rings = sorted(connect_rings(mol), key=lambda x: x[0])               \n",
    "#n_bodies = len(rings)\n",
    "rings = [set(np.array(ring._path) - 1) for ring in mol.OBMol.GetSSSR()]\n",
    "print(rings)"
   ]
  },
  {
   "cell_type": "code",
   "execution_count": 112,
   "metadata": {},
   "outputs": [],
   "source": [
    "def _check_rings(rings):                                                        \n",
    "    # if not all rings are disjoint, then some must still share particles       \n",
    "    connected = all(                                                            \n",
    "        [                                                                       \n",
    "            ringi.isdisjoint(ringj)                                             \n",
    "            for i, ringi in enumerate(rings[:-1])                               \n",
    "            for ringj in rings[i + 1 :]                                         \n",
    "        ]                                                                       \n",
    "    )                                                                           \n",
    "    if not connected:                                                           \n",
    "        new_rings = [                                                           \n",
    "            set(sorted(ringi.union(ringj)))                                     \n",
    "            for i, ringi in enumerate(rings[:-1])                               \n",
    "            for ringj in rings[i + 1 :]                                         \n",
    "            if not ringi.isdisjoint(ringj)                                      \n",
    "        ]                                                                       \n",
    "                                                                                \n",
    "        # this ends up adding each connected ring twice, so the next            \n",
    "        # section fixes that                                                    \n",
    "        conjugated = []                                                         \n",
    "        for i in new_rings:                                                     \n",
    "            if i not in conjugated:                                             \n",
    "                conjugated.append(i)    \n",
    "        print(f\"\\n conjugated: {conjugated}\")\n",
    "\n",
    "        for i in rings:\n",
    "            disjoint = [i.isdisjoint(j) for j in conjugated] \n",
    "            #print(\"\\n disjoint\")\n",
    "            #for j,k in zip(disjoint,conjugated):\n",
    "            #    print(f\"{i}{j}{k}\\n\")\n",
    "            #    pass\n",
    "            #print(all(disjoint))\n",
    "            if all(disjoint):\n",
    "                print(f\"\\n ADDING ring {i} is disjoint {disjoint}\")\n",
    "                if sorted(i) not in conjugated:\n",
    "                    conjugated.append(set(sorted(i)))\n",
    "    else:     \n",
    "        conjugated = rings     \n",
    "    return conjugated, connected     "
   ]
  },
  {
   "cell_type": "code",
   "execution_count": 114,
   "metadata": {},
   "outputs": [
    {
     "name": "stdout",
     "output_type": "stream",
     "text": [
      "\n",
      " rings:  [{0, 1, 2, 3, 4, 5, 6, 7, 8, 9, 10, 11, 12, 13, 14, 15, 16, 17, 18, 19, 47, 48, 49, 50, 51, 52, 53}, {116, 117, 118, 119, 120, 121, 122, 123, 124}, {20, 21, 22, 23, 24, 25, 26, 27, 28}, {54, 55, 56, 57, 58, 59, 60, 61, 62}, {131, 132, 133, 134, 135, 138, 139, 140, 141}] False\n"
     ]
    }
   ],
   "source": [
    "# Iterate through rings until they are all connected                        \n",
    "connected = False \n",
    "while not connected:\n",
    "    print(\"\\n rings: \", rings, connected)\n",
    "    rings, connected = _check_rings(rings)\n",
    "                                                                            \n",
    "# convert to numpy array so it can be used for indexing                     \n",
    "ring_arrs = []                                                              \n",
    "for ring in rings:                                                          \n",
    "    ring_arrs.append(np.array([*ring]))                                     \n"
   ]
  },
  {
   "cell_type": "code",
   "execution_count": 60,
   "metadata": {},
   "outputs": [
    {
     "name": "stdout",
     "output_type": "stream",
     "text": [
      "[0, 1, 2, 3, 4, 5, 6, 7, 8, 9, 10, 11, 12, 13, 14, 15, 16, 17, 18, 19, 20, 21, 22, 23, 24, 25, 26, 27, 28, 29, 30, 31, 32, 33, 34, 35, 36, 37, 38, 39, 40, 41, 42, 43, 44, 45, 46, 47, 48, 49, 50, 51, 52, 53, 54, 55, 56, 57, 58, 59, 60, 61, 62, 63, 64, 65, 66, 67, 68, 69, 70, 71, 72, 73, 74, 75, 76, 77, 78, 79, 80, 81, 82, 83, 84, 85, 86, 87, 88, 89, 90, 91, 92, 93, 94, 95, 96, 97, 98, 99]\n",
      "CPU times: user 312 µs, sys: 97 µs, total: 409 µs\n",
      "Wall time: 357 µs\n"
     ]
    }
   ],
   "source": [
    "%%time\n",
    "new_rings = [i for i in range(100)]\n",
    "conjugated = []                                                         \n",
    "for i in new_rings:                                                     \n",
    "    if i not in conjugated:\n",
    "        conjugated.append(i)\n",
    "print(conjugated)"
   ]
  },
  {
   "cell_type": "code",
   "execution_count": 61,
   "metadata": {},
   "outputs": [
    {
     "name": "stdout",
     "output_type": "stream",
     "text": [
      "[0, 1, 2, 3, 4, 5, 6, 7, 8, 9, 10, 11, 12, 13, 14, 15, 16, 17, 18, 19, 20, 21, 22, 23, 24, 25, 26, 27, 28, 29, 30, 31, 32, 33, 34, 35, 36, 37, 38, 39, 40, 41, 42, 43, 44, 45, 46, 47, 48, 49, 50, 51, 52, 53, 54, 55, 56, 57, 58, 59, 60, 61, 62, 63, 64, 65, 66, 67, 68, 69, 70, 71, 72, 73, 74, 75, 76, 77, 78, 79, 80, 81, 82, 83, 84, 85, 86, 87, 88, 89, 90, 91, 92, 93, 94, 95, 96, 97, 98, 99]\n",
      "CPU times: user 292 µs, sys: 80 µs, total: 372 µs\n",
      "Wall time: 327 µs\n"
     ]
    }
   ],
   "source": [
    "%%time\n",
    "new_rings = [i for i in range(100)]\n",
    "conjugated = []                                                         \n",
    "[conjugated.append(i) for i in new_rings if i not in conjugated]\n",
    "print(conjugated)"
   ]
  },
  {
   "cell_type": "code",
   "execution_count": 16,
   "metadata": {},
   "outputs": [],
   "source": [
    "#rigid_system.visualize().show()"
   ]
  },
  {
   "cell_type": "code",
   "execution_count": 12,
   "metadata": {},
   "outputs": [],
   "source": [
    "system_mol = rigid_system.to_pybel()\n",
    "rings = sorted(connect_rings(system_mol), key=lambda x: x[0])               \n",
    "n_bodies = len(rings)   "
   ]
  },
  {
   "cell_type": "code",
   "execution_count": 13,
   "metadata": {},
   "outputs": [
    {
     "name": "stdout",
     "output_type": "stream",
     "text": [
      "[array([ 0,  1,  2,  3,  4,  5,  6,  7,  8,  9, 10, 11, 12, 13, 14, 15, 16,\n",
      "       17, 18, 19, 47, 48, 49, 50, 51, 52, 53]), array([161, 162, 163, 164, 165, 166, 167, 168, 169, 170, 171, 172, 173,\n",
      "       174, 175, 176, 177, 178, 179, 180, 208, 209, 210, 211, 212, 213,\n",
      "       214])]\n"
     ]
    }
   ],
   "source": [
    "print(rings)"
   ]
  },
  {
   "cell_type": "code",
   "execution_count": 10,
   "metadata": {},
   "outputs": [],
   "source": [
    "rings = [set(np.array(ring._path) - 1) for ring in system_mol.OBMol.GetSSSR()]"
   ]
  },
  {
   "cell_type": "code",
   "execution_count": 11,
   "metadata": {},
   "outputs": [
    {
     "name": "stdout",
     "output_type": "stream",
     "text": [
      "[{161, 162, 163, 164, 165}, {175, 176, 178, 179, 180}, {0, 1, 2, 3, 4}, {131, 132, 133, 134, 135}, {24, 25, 26, 27, 28}, {55, 56, 60, 61, 62}, {116, 117, 118, 119, 120}, {47, 48, 51, 52, 53}, {216, 217, 221, 222, 223}, {14, 15, 17, 18, 19}, {277, 278, 279, 280, 281}, {208, 209, 212, 213, 214}, {185, 186, 187, 188, 189}, {292, 293, 294, 295, 296}, {162, 163, 166, 167, 168, 169}, {168, 169, 174, 175, 176, 177}, {3, 4, 9, 10, 11, 12}, {11, 12, 47, 48, 49, 50}, {164, 165, 170, 171, 172, 173}, {172, 173, 208, 209, 210, 211}, {20, 21, 22, 23, 24, 25}, {54, 55, 56, 57, 58, 59}, {118, 120, 121, 122, 123, 124}, {134, 135, 138, 139, 140, 141}, {215, 216, 217, 218, 219, 220}, {7, 8, 13, 14, 15, 16}, {279, 281, 282, 283, 284, 285}, {1, 2, 5, 6, 7, 8}, {181, 182, 183, 184, 185, 186}, {295, 296, 299, 300, 301, 302}]\n"
     ]
    }
   ],
   "source": [
    "print(rings)"
   ]
  },
  {
   "cell_type": "code",
   "execution_count": null,
   "metadata": {},
   "outputs": [],
   "source": [
    " "
   ]
  },
  {
   "cell_type": "code",
   "execution_count": 3,
   "metadata": {},
   "outputs": [
    {
     "name": "stdout",
     "output_type": "stream",
     "text": [
      "78.11160000000002 c1ccccc1\n"
     ]
    },
    {
     "name": "stderr",
     "output_type": "stream",
     "text": [
      "/Users/jenny/miniconda3/envs/planckton-dev/lib/python3.7/site-packages/mbuild/conversion.py:690: UserWarning: No unitcell detected for pybel.Molecule c1ccccc1\t\n",
      "\n",
      "  warn(\"No unitcell detected for pybel.Molecule {}\".format(pybel_mol))\n"
     ]
    }
   ],
   "source": [
    "input_str = \"c1ccccc1\"\n",
    "#input_str = \"planckton/compounds/CZTPTZITIC_typed.mol2\"\n",
    "\n",
    "if os.path.exists(input_str):\n",
    "    comp = mb.load(input_str)\n",
    "else:\n",
    "    comp = mb.load(input_str, smiles=True)\n",
    "\n",
    "# Calculate mass of compound                                            \n",
    "comp.mass = np.sum([atom.mass for atom in comp.to_parmed().atoms])      \n",
    "                                                                        \n",
    "# This helps to_parmed use residues to apply ff more quickly            \n",
    "comp.name = os.path.basename(input_str).split(\".\")[0] \n",
    "print(comp.mass, comp.name)"
   ]
  },
  {
   "cell_type": "code",
   "execution_count": 4,
   "metadata": {},
   "outputs": [
    {
     "name": "stdout",
     "output_type": "stream",
     "text": [
      "5.061993029949088\n"
     ]
    }
   ],
   "source": [
    "density = 0.01\n",
    "packer = Pack(comp, 10, density)\n",
    "L=packer.L\n",
    "print(L)\n",
    "typed_system, rigid_system = packer.pack()"
   ]
  },
  {
   "cell_type": "code",
   "execution_count": 5,
   "metadata": {},
   "outputs": [
    {
     "name": "stdout",
     "output_type": "stream",
     "text": [
      "HOOMD-blue 2.9.3 DOUBLE HPMC_MIXED TBB SSE SSE2 SSE3 \n",
      "Compiled: 10/17/2020\n",
      "Copyright (c) 2009-2019 The Regents of the University of Michigan.\n",
      "-----\n",
      "You are using HOOMD-blue. Please cite the following:\n",
      "* J A Anderson, J Glaser, and S C Glotzer. \"HOOMD-blue: A Python package for\n",
      "  high-performance molecular dynamics and hard particle Monte Carlo\n",
      "  simulations\", Computational Materials Science 173 (2020) 109363\n",
      "-----\n",
      "HOOMD-blue is running on the CPU\n",
      "notice(2): Group \"all\" created containing 130 particles\n",
      "notice(2): -- Neighborlist exclusion statistics -- :\n",
      "notice(2): Particles with 0 exclusions             : 10\n",
      "notice(2): Particles with 3 exclusions             : 60\n",
      "notice(2): Particles with 7 exclusions             : 60\n",
      "notice(2): Neighbors included by diameter          : no\n",
      "notice(2): Neighbors excluded when in the same body: no\n",
      "Processing LJ and QQ\n",
      "notice(2): Group \"charged\" created containing 0 particles\n",
      "No charged groups found, ignoring electrostatics\n",
      "Processing 1-4 interactions, adjusting neighborlist exclusions\n",
      "Processing harmonic bonds\n",
      "Processing harmonic angles\n",
      "Processing periodic torsions\n",
      "HOOMD SimulationContext updated from ParmEd Structure\n",
      "notice(2): -- Neighborlist exclusion statistics -- :\n",
      "notice(2): Particles with 0 exclusions             : 10\n",
      "notice(2): Particles with 7 exclusions             : 60\n",
      "notice(2): Particles with 10 exclusions             : 60\n",
      "notice(2): Neighbors included by diameter          : no\n",
      "notice(2): Neighbors excluded when in the same body: yes\n",
      "notice(2): Group \"rigid_center\" created containing 10 particles\n",
      "notice(2): Group \"nonrigid\" created containing 60 particles\n",
      "notice(2): Group \"both\" created containing 70 particles\n"
     ]
    }
   ],
   "source": [
    "sim = hoomd.context.initialize(\"\")\n",
    "both, snap, sim, ref_values = init_rigid(rigid_system, typed_system, sim)"
   ]
  },
  {
   "cell_type": "code",
   "execution_count": 6,
   "metadata": {},
   "outputs": [],
   "source": [
    "del(both)"
   ]
  },
  {
   "cell_type": "code",
   "execution_count": 7,
   "metadata": {},
   "outputs": [
    {
     "name": "stderr",
     "output_type": "stream",
     "text": [
      "**ERROR**: Particle 10 belongs to a rigid body, but is not its center particle. \n",
      "This integration method does not operate on constituent particles.\n",
      "\n"
     ]
    },
    {
     "ename": "RuntimeError",
     "evalue": "Error initializing integration method",
     "output_type": "error",
     "traceback": [
      "\u001b[0;31m---------------------------------------------------------------------------\u001b[0m",
      "\u001b[0;31mNameError\u001b[0m                                 Traceback (most recent call last)",
      "\u001b[0;32m<ipython-input-7-a23fc29a73ea>\u001b[0m in \u001b[0;36m<module>\u001b[0;34m\u001b[0m\n\u001b[1;32m     46\u001b[0m         integrator = hoomd.md.integrate.nvt(                                \n\u001b[0;32m---> 47\u001b[0;31m             \u001b[0mgroup\u001b[0m\u001b[0;34m=\u001b[0m\u001b[0mboth\u001b[0m\u001b[0;34m,\u001b[0m \u001b[0mtau\u001b[0m\u001b[0;34m=\u001b[0m\u001b[0;36m1\u001b[0m\u001b[0;34m,\u001b[0m \u001b[0mkT\u001b[0m\u001b[0;34m=\u001b[0m\u001b[0;36m1\u001b[0m\u001b[0;34m\u001b[0m\u001b[0;34m\u001b[0m\u001b[0m\n\u001b[0m\u001b[1;32m     48\u001b[0m         )          \n",
      "\u001b[0;31mNameError\u001b[0m: name 'both' is not defined",
      "\nDuring handling of the above exception, another exception occurred:\n",
      "\u001b[0;31mRuntimeError\u001b[0m                              Traceback (most recent call last)",
      "\u001b[0;32m<ipython-input-7-a23fc29a73ea>\u001b[0m in \u001b[0;36m<module>\u001b[0;34m\u001b[0m\n\u001b[1;32m     50\u001b[0m         \u001b[0;31m# both does not exist\u001b[0m\u001b[0;34m\u001b[0m\u001b[0;34m\u001b[0m\u001b[0;34m\u001b[0m\u001b[0m\n\u001b[1;32m     51\u001b[0m         integrator = hoomd.md.integrate.nvt(                                \n\u001b[0;32m---> 52\u001b[0;31m             \u001b[0mgroup\u001b[0m\u001b[0;34m=\u001b[0m\u001b[0mall_particles\u001b[0m\u001b[0;34m,\u001b[0m \u001b[0mtau\u001b[0m\u001b[0;34m=\u001b[0m\u001b[0;36m1\u001b[0m\u001b[0;34m,\u001b[0m \u001b[0mkT\u001b[0m\u001b[0;34m=\u001b[0m\u001b[0;36m1\u001b[0m\u001b[0;34m\u001b[0m\u001b[0;34m\u001b[0m\u001b[0m\n\u001b[0m\u001b[1;32m     53\u001b[0m         )       \n",
      "\u001b[0;32m~/miniconda3/envs/planckton-dev/lib/python3.7/site-packages/hoomd/md/integrate.py\u001b[0m in \u001b[0;36m__init__\u001b[0;34m(self, group, kT, tau)\u001b[0m\n\u001b[1;32m    235\u001b[0m             \u001b[0mself\u001b[0m\u001b[0;34m.\u001b[0m\u001b[0mcpp_method\u001b[0m \u001b[0;34m=\u001b[0m \u001b[0m_md\u001b[0m\u001b[0;34m.\u001b[0m\u001b[0mTwoStepNVTMTKGPU\u001b[0m\u001b[0;34m(\u001b[0m\u001b[0mhoomd\u001b[0m\u001b[0;34m.\u001b[0m\u001b[0mcontext\u001b[0m\u001b[0;34m.\u001b[0m\u001b[0mcurrent\u001b[0m\u001b[0;34m.\u001b[0m\u001b[0msystem_definition\u001b[0m\u001b[0;34m,\u001b[0m \u001b[0mgroup\u001b[0m\u001b[0;34m.\u001b[0m\u001b[0mcpp_group\u001b[0m\u001b[0;34m,\u001b[0m \u001b[0mthermo\u001b[0m\u001b[0;34m.\u001b[0m\u001b[0mcpp_compute\u001b[0m\u001b[0;34m,\u001b[0m \u001b[0mtau\u001b[0m\u001b[0;34m,\u001b[0m \u001b[0mkT\u001b[0m\u001b[0;34m.\u001b[0m\u001b[0mcpp_variant\u001b[0m\u001b[0;34m,\u001b[0m \u001b[0msuffix\u001b[0m\u001b[0;34m)\u001b[0m\u001b[0;34m;\u001b[0m\u001b[0;34m\u001b[0m\u001b[0;34m\u001b[0m\u001b[0m\n\u001b[1;32m    236\u001b[0m \u001b[0;34m\u001b[0m\u001b[0m\n\u001b[0;32m--> 237\u001b[0;31m         \u001b[0mself\u001b[0m\u001b[0;34m.\u001b[0m\u001b[0mcpp_method\u001b[0m\u001b[0;34m.\u001b[0m\u001b[0mvalidateGroup\u001b[0m\u001b[0;34m(\u001b[0m\u001b[0;34m)\u001b[0m\u001b[0;34m\u001b[0m\u001b[0;34m\u001b[0m\u001b[0m\n\u001b[0m\u001b[1;32m    238\u001b[0m \u001b[0;34m\u001b[0m\u001b[0m\n\u001b[1;32m    239\u001b[0m     \u001b[0;32mdef\u001b[0m \u001b[0mset_params\u001b[0m\u001b[0;34m(\u001b[0m\u001b[0mself\u001b[0m\u001b[0;34m,\u001b[0m \u001b[0mkT\u001b[0m\u001b[0;34m=\u001b[0m\u001b[0;32mNone\u001b[0m\u001b[0;34m,\u001b[0m \u001b[0mtau\u001b[0m\u001b[0;34m=\u001b[0m\u001b[0;32mNone\u001b[0m\u001b[0;34m)\u001b[0m\u001b[0;34m:\u001b[0m\u001b[0;34m\u001b[0m\u001b[0;34m\u001b[0m\u001b[0m\n",
      "\u001b[0;31mRuntimeError\u001b[0m: Error initializing integration method"
     ]
    }
   ],
   "source": [
    "target_length = 10\n",
    "e_factor = 0.5\n",
    "#for force in sim.forces:\n",
    "#    try:\n",
    "#        print(force.pair_coeff.values,\"\\n\")\n",
    "#    except AttributeError:\n",
    "#        pass\n",
    "with sim:                                                               \n",
    "    if target_length is not None:                                  \n",
    "        target_length /= ref_values.distance                       \n",
    "                                                                        \n",
    "    if e_factor != 1:                                                             \n",
    "        hoomd.util.quiet_status()                                       \n",
    "        # catch all instances of LJ pair                                \n",
    "        ljtypes = [                                                     \n",
    "                i for i in sim.forces                                   \n",
    "                if isinstance(i, hoomd.md.pair.lj)                      \n",
    "                or isinstance(i, hoomd.md.special_pair.lj)              \n",
    "                ] \n",
    "        for lj in ljtypes:                                              \n",
    "            pair_list = lj.get_metadata()['pair_coeff'].get_metadata()  \n",
    "            for pair_dict in pair_list:                                 \n",
    "                # Scale the epsilon values by e_factor                  \n",
    "                try:                                                    \n",
    "                    a, b, new_dict = set_coeffs(                        \n",
    "                            pair_dict,                                  \n",
    "                            e_factor                               \n",
    "                            )                                           \n",
    "                    lj.pair_coeff.set(a, b, **new_dict)                 \n",
    "                except ValueError:                                      \n",
    "                    # if the pair has not been defined,                 \n",
    "                    # it will not have a dictionary object              \n",
    "                    # instead it will be a string (e.g. \"ca-ca\")        \n",
    "                    # and will fail when trying to make the new_dict    \n",
    "                    pass       \n",
    "\n",
    "    #for force in sim.forces:\n",
    "    #    try:\n",
    "    #        print(force.pair_coeff.values,\"\\n\")\n",
    "    #    except AttributeError:\n",
    "    #        pass\n",
    "    \n",
    "    integrator_mode = hoomd.md.integrate.mode_standard(dt=0.001)      \n",
    "    all_particles = hoomd.group.all()                          \n",
    "    try:\n",
    "        integrator = hoomd.md.integrate.nvt(                                \n",
    "            group=both, tau=1, kT=1    \n",
    "        )          \n",
    "    except NameError:\n",
    "        # both does not exist\n",
    "        integrator = hoomd.md.integrate.nvt(                                \n",
    "            group=all_particles, tau=1, kT=1    \n",
    "        )       "
   ]
  },
  {
   "cell_type": "code",
   "execution_count": 7,
   "metadata": {},
   "outputs": [
    {
     "name": "stdout",
     "output_type": "stream",
     "text": [
      "notice(2): -- Neighborlist exclusion statistics -- :\n",
      "notice(2): Particles with 0 exclusions             : 10\n",
      "notice(2): Particles with 7 exclusions             : 60\n",
      "notice(2): Particles with 10 exclusions             : 60\n",
      "notice(2): Neighbors included by diameter          : no\n",
      "notice(2): Neighbors excluded when in the same body: yes\n",
      "** starting run **\n",
      "Time 00:00:01 | Step 10000 / 10000 | TPS 7070.07 | ETA 00:00:00\n",
      "Average TPS: 7065.34\n",
      "---------\n",
      "-- Neighborlist stats:\n",
      "100 normal updates / 100 forced updates / 0 dangerous updates\n",
      "n_neigh_min: 0 / n_neigh_max: 5 / n_neigh_avg: 1.61538\n",
      "shortest rebuild period: 50\n",
      "-- Cell list stats:\n",
      "Dimension: 46, 46, 46\n",
      "n_min    : 0 / n_max: 13 / n_avg: 0.00133558\n",
      "** run complete **\n"
     ]
    }
   ],
   "source": [
    "with sim:\n",
    "    hoomd.dump.gsd(                                                     \n",
    "        filename=\"trajectory.gsd\",                                      \n",
    "        period=1e3,                                          \n",
    "        group=all_particles,                                            \n",
    "        overwrite=False,                                                \n",
    "        phase=0,                                                        \n",
    "    )  \n",
    "    integrator.randomize_velocities(seed=42)\n",
    "    hoomd.run(1e4)"
   ]
  },
  {
   "cell_type": "markdown",
   "metadata": {},
   "source": [
    "# Working example with Rigid Bodies\n",
    "\n",
    "Let's start with a simple case--a benzene molcule."
   ]
  },
  {
   "cell_type": "code",
   "execution_count": 6,
   "metadata": {},
   "outputs": [],
   "source": [
    "bz_str = \"c1ccccc1\"\n",
    "bz = mb.load(bz_str, smiles=True, ignore_box_warn=True)\n",
    "name = \"bz\"\n",
    "bz.name = name\n",
    "#bz.visualize().show()"
   ]
  },
  {
   "cell_type": "code",
   "execution_count": 7,
   "metadata": {},
   "outputs": [],
   "source": [
    "#npt_str = \"c1ccc2ccccc2c1\"\n",
    "#npt = mb.load(npt_str, smiles=True, ignore_box_warn=True)\n",
    "#npt.visualize().show()"
   ]
  },
  {
   "cell_type": "code",
   "execution_count": 8,
   "metadata": {},
   "outputs": [],
   "source": [
    "#py_str = \"c1cc2cccc3ccc4cccc1c4c32\"\n",
    "#py = mb.load(py_str, smiles=True, ignore_box_warn=True)\n",
    "#py.visualize().show()"
   ]
  },
  {
   "cell_type": "markdown",
   "metadata": {},
   "source": [
    "Let's try fixing the orientation of the benzene molecules when we fill the box--I think that might make it work better with rigid bodies."
   ]
  },
  {
   "cell_type": "code",
   "execution_count": 9,
   "metadata": {},
   "outputs": [],
   "source": [
    "box = mb.Box([5,5,5])\n",
    "system = mb.fill_box(bz, n_compounds=10, box=box, fix_orientation=True)\n",
    "#system.visualize().show()"
   ]
  },
  {
   "cell_type": "code",
   "execution_count": 10,
   "metadata": {},
   "outputs": [],
   "source": [
    "gaff = foyer.forcefields.load_GAFF()\n",
    "pmd_system = system.to_parmed(residues=[name])\n",
    "typed_system = gaff.apply(system)\n",
    "#print(set([atom.type for atom in typed_system.atoms]))"
   ]
  },
  {
   "cell_type": "markdown",
   "metadata": {},
   "source": [
    "\n",
    "I'm using mbuild from [PR #808](https://github.com/mosdef-hub/mbuild/pull/808) which allows `create_hoomd_simulation` to read in a snapshot:\n",
    "\n",
    "```\n",
    "create_hoomd_simulation(structure, ref_distance=1.0, ref_mass=1.0, ref_energy=1.0, r_cut=1.2, auto_scale=False, snapshot_kwargs={}, pppm_kwargs={'Nx': 8, 'Ny': 8, 'Nz': 8, 'order': 4}, init_snap=None)\n",
    "```\n",
    "\n",
    "First, make a snapshot with 10 rigid particles--one for each benzene ring:"
   ]
  },
  {
   "cell_type": "code",
   "execution_count": 11,
   "metadata": {},
   "outputs": [],
   "source": [
    "sim = hoomd.context.SimulationContext()\n",
    "\n",
    "with sim:\n",
    "    hoomd.context.initialize(\"\")\n",
    "    init_snap = make_snapshot(N=10, particle_types=[\"_R\"], box=hoomd.data.boxdim(L=10))"
   ]
  },
  {
   "cell_type": "code",
   "execution_count": 12,
   "metadata": {},
   "outputs": [
    {
     "name": "stdout",
     "output_type": "stream",
     "text": [
      "notice(2): Group \"all\" created containing 130 particles\n",
      "notice(2): -- Neighborlist exclusion statistics -- :\n",
      "notice(2): Particles with 0 exclusions             : 10\n",
      "notice(2): Particles with 3 exclusions             : 60\n",
      "notice(2): Particles with 7 exclusions             : 60\n",
      "notice(2): Neighbors included by diameter          : no\n",
      "notice(2): Neighbors excluded when in the same body: no\n",
      "Processing LJ and QQ\n",
      "notice(2): Group \"charged\" created containing 0 particles\n",
      "No charged groups found, ignoring electrostatics\n",
      "Processing 1-4 interactions, adjusting neighborlist exclusions\n",
      "Processing harmonic bonds\n",
      "Processing harmonic angles\n",
      "Processing periodic torsions\n",
      "HOOMD SimulationContext updated from ParmEd Structure\n"
     ]
    }
   ],
   "source": [
    "with sim:\n",
    "    hoomd_objects, ref_values = create_hoomd_simulation(\n",
    "        typed_system, auto_scale=True, init_snap=init_snap\n",
    "    )\n",
    "    snap = hoomd_objects[0]"
   ]
  },
  {
   "cell_type": "markdown",
   "metadata": {},
   "source": [
    "Want to do something with [ring detection](https://openbabel.org/wiki/Ring_detection) where rings are automatically converted to rigid bodies.\n",
    "\n",
    "- convert to pybel mol\n",
    "- use smarts matching to find rings\n",
    "- make rigid\n",
    "\n",
    "[SSSR documentation](http://openbabel.org/dev-api/classOpenBabel_1_1OBRing.shtml#_details)"
   ]
  },
  {
   "cell_type": "code",
   "execution_count": 13,
   "metadata": {},
   "outputs": [
    {
     "name": "stdout",
     "output_type": "stream",
     "text": [
      "10\n"
     ]
    }
   ],
   "source": [
    "system_mol = system.to_pybel()\n",
    "rings = sorted(connect_rings(system_mol), key=lambda x: x[0])\n",
    "\n",
    "#print(*rings, sep=\"\\n\")\n",
    "print(len(rings))"
   ]
  },
  {
   "cell_type": "markdown",
   "metadata": {},
   "source": [
    "Now let's move the rigid body centers to the center of the ring and set the body IDs"
   ]
  },
  {
   "cell_type": "code",
   "execution_count": 10,
   "metadata": {},
   "outputs": [],
   "source": [
    "for i,ring in enumerate(rings):\n",
    "    inds = ring + len(rings)\n",
    "    snap.particles.position[i] = np.mean(snap.particles.position[inds], axis=0)\n",
    "    snap.particles.body[i] = i\n",
    "    snap.particles.body[inds] = i * np.ones(len(ring))"
   ]
  },
  {
   "cell_type": "markdown",
   "metadata": {},
   "source": [
    "I am using [this example](http://farside.ph.utexas.edu/teaching/336k/Newtonhtml/node64.html) for how to calculate the moment of inertia tensor (also Matty/Mike/someone's code from cmeutils)\n",
    "\n",
    "From [hoomd docs](https://hoomd-blue.readthedocs.io/en/v2.9.3/module-md-constrain.html#hoomd.md.constrain.rigid)\n",
    ">The mass and moment of inertia of the central particle set the full mass and moment of inertia of the rigid body (constituent particle mass is ignored).\n",
    "\n",
    ">The central particle is at the center of mass of the rigid body and the orientation quaternion defines the rotation from the body space into the simulation box. In body space, the center of mass of the body is at 0,0,0 and the moment of inertia is diagonal. "
   ]
  },
  {
   "cell_type": "code",
   "execution_count": 11,
   "metadata": {},
   "outputs": [],
   "source": [
    "for i,ring in enumerate(rings):\n",
    "    inds = ring + len(rings)\n",
    "    snap.particles.moment_inertia[i] = moit(\n",
    "        snap.particles.position[inds], snap.particles.mass[inds], center=snap.particles.position[i]\n",
    "    )\n",
    "    snap.particles.mass[i] = np.sum(snap.particles.mass[inds])"
   ]
  },
  {
   "cell_type": "code",
   "execution_count": 12,
   "metadata": {},
   "outputs": [],
   "source": [
    "# need to reinitialize\n",
    "sim.system_definition.initializeFromSnapshot(snap)"
   ]
  },
  {
   "cell_type": "code",
   "execution_count": 13,
   "metadata": {},
   "outputs": [
    {
     "name": "stdout",
     "output_type": "stream",
     "text": [
      "notice(2): -- Neighborlist exclusion statistics -- :\n",
      "notice(2): Particles with 0 exclusions             : 10\n",
      "notice(2): Particles with 7 exclusions             : 60\n",
      "notice(2): Particles with 10 exclusions             : 60\n",
      "notice(2): Neighbors included by diameter          : no\n",
      "notice(2): Neighbors excluded when in the same body: yes\n",
      "['1-2', '1-3', '1-4', 'body']\n"
     ]
    }
   ],
   "source": [
    "nl = sim.neighbor_lists[0]\n",
    "ex_list = nl.exclusions \n",
    "ex_list.append('body')\n",
    "sim.neighbor_lists[0].reset_exclusions(exclusions=ex_list)\n",
    "\n",
    "print(sim.neighbor_lists[0].exclusions)"
   ]
  },
  {
   "cell_type": "code",
   "execution_count": 14,
   "metadata": {},
   "outputs": [
    {
     "name": "stdout",
     "output_type": "stream",
     "text": [
      "notice(2): Group \"rigid_center\" created containing 10 particles\n",
      "notice(2): Group \"nonrigid\" created containing 60 particles\n",
      "notice(2): integrate.langevin/bd is using specified gamma values\n",
      "notice(2): integrate.langevin/bd is using specified gamma values\n",
      "notice(2): -- Neighborlist exclusion statistics -- :\n",
      "notice(2): Particles with 0 exclusions             : 10\n",
      "notice(2): Particles with 7 exclusions             : 60\n",
      "notice(2): Particles with 10 exclusions             : 60\n",
      "notice(2): Neighbors included by diameter          : no\n",
      "notice(2): Neighbors excluded when in the same body: yes\n",
      "** starting run **\n"
     ]
    },
    {
     "name": "stderr",
     "output_type": "stream",
     "text": [
      "*Warning*: Integrator #1: Anisotropic integration requested, but no rotational degrees of freedom found for its group\n"
     ]
    },
    {
     "name": "stdout",
     "output_type": "stream",
     "text": [
      "Time 00:00:20 | Step 50000 / 50000 | TPS 9010.01 | ETA 00:00:00\n",
      "Average TPS: 9008.75\n",
      "---------\n",
      "-- Neighborlist stats:\n",
      "0 normal updates / 500 forced updates / 0 dangerous updates\n",
      "n_neigh_min: 0 / n_neigh_max: 6 / n_neigh_avg: 1.61538\n",
      "shortest rebuild period: 100\n",
      "-- Cell list stats:\n",
      "Dimension: 9, 9, 9\n",
      "n_min    : 0 / n_max: 12 / n_avg: 0.178326\n",
      "** run complete **\n"
     ]
    }
   ],
   "source": [
    "with sim:\n",
    "    rigid = hoomd.md.constrain.rigid()\n",
    "    \n",
    "    r_pos = snap.particles.position[0]\n",
    "    const_pos = snap.particles.position[rings[0]+len(rings)]\n",
    "    const_pos -= r_pos\n",
    "    #print(r_pos,const_pos)\n",
    "    \n",
    "    const_types = [snap.particles.types[i] for i in snap.particles.typeid[rings[0]+len(rings)]]\n",
    "    #print(const_types)\n",
    "    \n",
    "    rigid.set_param(\"_R\", types=const_types, positions=[tuple(i) for i in const_pos])\n",
    "    rigid.validate_bodies()\n",
    "    \n",
    "    lj = sim.forces[0]\n",
    "    lj.pair_coeff.set(\"_R\", snap.particles.types, epsilon=0, sigma=0)\n",
    "    \n",
    "    centers = hoomd.group.rigid_center()\n",
    "    nonrigid = hoomd.group.nonrigid()\n",
    "    _all = hoomd.group.all()\n",
    "    \n",
    "    hoomd.md.integrate.mode_standard(dt=0.0001);\n",
    "    hoomd.md.integrate.langevin(group=centers, kT=1.0, seed=42);\n",
    "    hoomd.md.integrate.langevin(group=nonrigid, kT=1.0, seed=42);\n",
    "    hoomd.dump.gsd(filename=\"start.gsd\", overwrite=True, period=None, group=_all, time_step=0)\n",
    "    hoomd.dump.gsd(\"trajectory.gsd\", period=1e3, group=_all, overwrite=True)\n",
    "    hoomd.run(5e4)"
   ]
  },
  {
   "cell_type": "code",
   "execution_count": 15,
   "metadata": {},
   "outputs": [],
   "source": [
    "with sim:\n",
    "    hoomd.dump.gsd(filename=\"after.gsd\", overwrite=True, period=None, group=hoomd.group.all())"
   ]
  }
 ],
 "metadata": {
  "kernelspec": {
   "display_name": "Python 3",
   "language": "python",
   "name": "python3"
  },
  "language_info": {
   "codemirror_mode": {
    "name": "ipython",
    "version": 3
   },
   "file_extension": ".py",
   "mimetype": "text/x-python",
   "name": "python",
   "nbconvert_exporter": "python",
   "pygments_lexer": "ipython3",
   "version": "3.7.8"
  }
 },
 "nbformat": 4,
 "nbformat_minor": 4
}
