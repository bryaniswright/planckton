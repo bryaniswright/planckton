{
 "cells": [
  {
   "cell_type": "markdown",
   "metadata": {},
   "source": [
    "# Rigid Bodies"
   ]
  },
  {
   "cell_type": "code",
   "execution_count": 1,
   "metadata": {},
   "outputs": [
    {
     "name": "stderr",
     "output_type": "stream",
     "text": [
      "/Users/jenny/miniconda3/envs/planckton-dev/lib/python3.7/site-packages/mdtraj/core/trajectory.py:32: DeprecationWarning: Using or importing the ABCs from 'collections' instead of from 'collections.abc' is deprecated since Python 3.3,and in 3.9 it will stop working\n",
      "  from collections import Iterable\n",
      "/Users/jenny/miniconda3/envs/planckton-dev/lib/python3.7/site-packages/foyer/forcefield.py:449: UserWarning: No force field version number found in force field XML file.\n",
      "  'No force field version number found in force field XML file.'\n",
      "/Users/jenny/miniconda3/envs/planckton-dev/lib/python3.7/site-packages/foyer/forcefield.py:461: UserWarning: No force field name found in force field XML file.\n",
      "  'No force field name found in force field XML file.'\n",
      "/Users/jenny/miniconda3/envs/planckton-dev/lib/python3.7/site-packages/foyer/validator.py:132: ValidationWarning: You have empty smart definition(s)\n",
      "  warn(\"You have empty smart definition(s)\", ValidationWarning)\n"
     ]
    }
   ],
   "source": [
    "import os \n",
    "\n",
    "import foyer\n",
    "import hoomd\n",
    "from hoomd.data import make_snapshot\n",
    "import mbuild as mb\n",
    "from mbuild.formats.hoomd_simulation import create_hoomd_simulation\n",
    "import numpy as np\n",
    "import matplotlib.pyplot as plt\n",
    "\n",
    "from planckton.utils.rigid import connect_rings, moit, init_rigid\n",
    "from planckton.utils.utils import set_coeffs\n",
    "from planckton.init import Compound, Pack"
   ]
  },
  {
   "cell_type": "markdown",
   "metadata": {},
   "source": [
    "# trying to modify planckton's init and sim functions"
   ]
  },
  {
   "cell_type": "code",
   "execution_count": 3,
   "metadata": {},
   "outputs": [
    {
     "name": "stdout",
     "output_type": "stream",
     "text": [
      "78.11160000000002 c1ccccc1\n"
     ]
    },
    {
     "name": "stderr",
     "output_type": "stream",
     "text": [
      "/Users/jenny/miniconda3/envs/planckton-dev/lib/python3.7/site-packages/mbuild/conversion.py:690: UserWarning: No unitcell detected for pybel.Molecule c1ccccc1\t\n",
      "\n",
      "  warn(\"No unitcell detected for pybel.Molecule {}\".format(pybel_mol))\n"
     ]
    }
   ],
   "source": [
    "input_str = \"c1ccccc1\"\n",
    "#input_str = \"planckton/compounds/CZTPTZITIC_typed.mol2\"\n",
    "\n",
    "if os.path.exists(input_str):\n",
    "    comp = mb.load(input_str)\n",
    "else:\n",
    "    comp = mb.load(input_str, smiles=True)\n",
    "\n",
    "# Calculate mass of compound                                            \n",
    "comp.mass = np.sum([atom.mass for atom in comp.to_parmed().atoms])      \n",
    "                                                                        \n",
    "# This helps to_parmed use residues to apply ff more quickly            \n",
    "comp.name = os.path.basename(input_str).split(\".\")[0] \n",
    "print(comp.mass, comp.name)"
   ]
  },
  {
   "cell_type": "code",
   "execution_count": 4,
   "metadata": {},
   "outputs": [
    {
     "name": "stdout",
     "output_type": "stream",
     "text": [
      "5.061993029949088\n"
     ]
    }
   ],
   "source": [
    "density = 0.01\n",
    "packer = Pack(comp, 10, density)\n",
    "L=packer.L\n",
    "print(L)\n",
    "typed_system, rigid_system = packer.pack()"
   ]
  },
  {
   "cell_type": "code",
   "execution_count": 5,
   "metadata": {},
   "outputs": [
    {
     "name": "stdout",
     "output_type": "stream",
     "text": [
      "HOOMD-blue 2.9.3 DOUBLE HPMC_MIXED TBB SSE SSE2 SSE3 \n",
      "Compiled: 10/17/2020\n",
      "Copyright (c) 2009-2019 The Regents of the University of Michigan.\n",
      "-----\n",
      "You are using HOOMD-blue. Please cite the following:\n",
      "* J A Anderson, J Glaser, and S C Glotzer. \"HOOMD-blue: A Python package for\n",
      "  high-performance molecular dynamics and hard particle Monte Carlo\n",
      "  simulations\", Computational Materials Science 173 (2020) 109363\n",
      "-----\n",
      "HOOMD-blue is running on the CPU\n",
      "notice(2): Group \"all\" created containing 130 particles\n",
      "notice(2): -- Neighborlist exclusion statistics -- :\n",
      "notice(2): Particles with 0 exclusions             : 10\n",
      "notice(2): Particles with 3 exclusions             : 60\n",
      "notice(2): Particles with 7 exclusions             : 60\n",
      "notice(2): Neighbors included by diameter          : no\n",
      "notice(2): Neighbors excluded when in the same body: no\n",
      "Processing LJ and QQ\n",
      "notice(2): Group \"charged\" created containing 0 particles\n",
      "No charged groups found, ignoring electrostatics\n",
      "Processing 1-4 interactions, adjusting neighborlist exclusions\n",
      "Processing harmonic bonds\n",
      "Processing harmonic angles\n",
      "Processing periodic torsions\n",
      "HOOMD SimulationContext updated from ParmEd Structure\n",
      "notice(2): -- Neighborlist exclusion statistics -- :\n",
      "notice(2): Particles with 0 exclusions             : 10\n",
      "notice(2): Particles with 7 exclusions             : 60\n",
      "notice(2): Particles with 10 exclusions             : 60\n",
      "notice(2): Neighbors included by diameter          : no\n",
      "notice(2): Neighbors excluded when in the same body: yes\n",
      "notice(2): Group \"rigid_center\" created containing 10 particles\n",
      "notice(2): Group \"nonrigid\" created containing 60 particles\n",
      "notice(2): Group \"both\" created containing 70 particles\n"
     ]
    }
   ],
   "source": [
    "sim = hoomd.context.initialize(\"\")\n",
    "both, snap, sim, ref_values = init_rigid(rigid_system, typed_system, sim)"
   ]
  },
  {
   "cell_type": "code",
   "execution_count": 6,
   "metadata": {},
   "outputs": [],
   "source": [
    "del(both)"
   ]
  },
  {
   "cell_type": "code",
   "execution_count": 7,
   "metadata": {},
   "outputs": [
    {
     "name": "stderr",
     "output_type": "stream",
     "text": [
      "**ERROR**: Particle 10 belongs to a rigid body, but is not its center particle. \n",
      "This integration method does not operate on constituent particles.\n",
      "\n"
     ]
    },
    {
     "ename": "RuntimeError",
     "evalue": "Error initializing integration method",
     "output_type": "error",
     "traceback": [
      "\u001b[0;31m---------------------------------------------------------------------------\u001b[0m",
      "\u001b[0;31mNameError\u001b[0m                                 Traceback (most recent call last)",
      "\u001b[0;32m<ipython-input-7-a23fc29a73ea>\u001b[0m in \u001b[0;36m<module>\u001b[0;34m\u001b[0m\n\u001b[1;32m     46\u001b[0m         integrator = hoomd.md.integrate.nvt(                                \n\u001b[0;32m---> 47\u001b[0;31m             \u001b[0mgroup\u001b[0m\u001b[0;34m=\u001b[0m\u001b[0mboth\u001b[0m\u001b[0;34m,\u001b[0m \u001b[0mtau\u001b[0m\u001b[0;34m=\u001b[0m\u001b[0;36m1\u001b[0m\u001b[0;34m,\u001b[0m \u001b[0mkT\u001b[0m\u001b[0;34m=\u001b[0m\u001b[0;36m1\u001b[0m\u001b[0;34m\u001b[0m\u001b[0;34m\u001b[0m\u001b[0m\n\u001b[0m\u001b[1;32m     48\u001b[0m         )          \n",
      "\u001b[0;31mNameError\u001b[0m: name 'both' is not defined",
      "\nDuring handling of the above exception, another exception occurred:\n",
      "\u001b[0;31mRuntimeError\u001b[0m                              Traceback (most recent call last)",
      "\u001b[0;32m<ipython-input-7-a23fc29a73ea>\u001b[0m in \u001b[0;36m<module>\u001b[0;34m\u001b[0m\n\u001b[1;32m     50\u001b[0m         \u001b[0;31m# both does not exist\u001b[0m\u001b[0;34m\u001b[0m\u001b[0;34m\u001b[0m\u001b[0;34m\u001b[0m\u001b[0m\n\u001b[1;32m     51\u001b[0m         integrator = hoomd.md.integrate.nvt(                                \n\u001b[0;32m---> 52\u001b[0;31m             \u001b[0mgroup\u001b[0m\u001b[0;34m=\u001b[0m\u001b[0mall_particles\u001b[0m\u001b[0;34m,\u001b[0m \u001b[0mtau\u001b[0m\u001b[0;34m=\u001b[0m\u001b[0;36m1\u001b[0m\u001b[0;34m,\u001b[0m \u001b[0mkT\u001b[0m\u001b[0;34m=\u001b[0m\u001b[0;36m1\u001b[0m\u001b[0;34m\u001b[0m\u001b[0;34m\u001b[0m\u001b[0m\n\u001b[0m\u001b[1;32m     53\u001b[0m         )       \n",
      "\u001b[0;32m~/miniconda3/envs/planckton-dev/lib/python3.7/site-packages/hoomd/md/integrate.py\u001b[0m in \u001b[0;36m__init__\u001b[0;34m(self, group, kT, tau)\u001b[0m\n\u001b[1;32m    235\u001b[0m             \u001b[0mself\u001b[0m\u001b[0;34m.\u001b[0m\u001b[0mcpp_method\u001b[0m \u001b[0;34m=\u001b[0m \u001b[0m_md\u001b[0m\u001b[0;34m.\u001b[0m\u001b[0mTwoStepNVTMTKGPU\u001b[0m\u001b[0;34m(\u001b[0m\u001b[0mhoomd\u001b[0m\u001b[0;34m.\u001b[0m\u001b[0mcontext\u001b[0m\u001b[0;34m.\u001b[0m\u001b[0mcurrent\u001b[0m\u001b[0;34m.\u001b[0m\u001b[0msystem_definition\u001b[0m\u001b[0;34m,\u001b[0m \u001b[0mgroup\u001b[0m\u001b[0;34m.\u001b[0m\u001b[0mcpp_group\u001b[0m\u001b[0;34m,\u001b[0m \u001b[0mthermo\u001b[0m\u001b[0;34m.\u001b[0m\u001b[0mcpp_compute\u001b[0m\u001b[0;34m,\u001b[0m \u001b[0mtau\u001b[0m\u001b[0;34m,\u001b[0m \u001b[0mkT\u001b[0m\u001b[0;34m.\u001b[0m\u001b[0mcpp_variant\u001b[0m\u001b[0;34m,\u001b[0m \u001b[0msuffix\u001b[0m\u001b[0;34m)\u001b[0m\u001b[0;34m;\u001b[0m\u001b[0;34m\u001b[0m\u001b[0;34m\u001b[0m\u001b[0m\n\u001b[1;32m    236\u001b[0m \u001b[0;34m\u001b[0m\u001b[0m\n\u001b[0;32m--> 237\u001b[0;31m         \u001b[0mself\u001b[0m\u001b[0;34m.\u001b[0m\u001b[0mcpp_method\u001b[0m\u001b[0;34m.\u001b[0m\u001b[0mvalidateGroup\u001b[0m\u001b[0;34m(\u001b[0m\u001b[0;34m)\u001b[0m\u001b[0;34m\u001b[0m\u001b[0;34m\u001b[0m\u001b[0m\n\u001b[0m\u001b[1;32m    238\u001b[0m \u001b[0;34m\u001b[0m\u001b[0m\n\u001b[1;32m    239\u001b[0m     \u001b[0;32mdef\u001b[0m \u001b[0mset_params\u001b[0m\u001b[0;34m(\u001b[0m\u001b[0mself\u001b[0m\u001b[0;34m,\u001b[0m \u001b[0mkT\u001b[0m\u001b[0;34m=\u001b[0m\u001b[0;32mNone\u001b[0m\u001b[0;34m,\u001b[0m \u001b[0mtau\u001b[0m\u001b[0;34m=\u001b[0m\u001b[0;32mNone\u001b[0m\u001b[0;34m)\u001b[0m\u001b[0;34m:\u001b[0m\u001b[0;34m\u001b[0m\u001b[0;34m\u001b[0m\u001b[0m\n",
      "\u001b[0;31mRuntimeError\u001b[0m: Error initializing integration method"
     ]
    }
   ],
   "source": [
    "target_length = 10\n",
    "e_factor = 0.5\n",
    "#for force in sim.forces:\n",
    "#    try:\n",
    "#        print(force.pair_coeff.values,\"\\n\")\n",
    "#    except AttributeError:\n",
    "#        pass\n",
    "with sim:                                                               \n",
    "    if target_length is not None:                                  \n",
    "        target_length /= ref_values.distance                       \n",
    "                                                                        \n",
    "    if e_factor != 1:                                                             \n",
    "        hoomd.util.quiet_status()                                       \n",
    "        # catch all instances of LJ pair                                \n",
    "        ljtypes = [                                                     \n",
    "                i for i in sim.forces                                   \n",
    "                if isinstance(i, hoomd.md.pair.lj)                      \n",
    "                or isinstance(i, hoomd.md.special_pair.lj)              \n",
    "                ] \n",
    "        for lj in ljtypes:                                              \n",
    "            pair_list = lj.get_metadata()['pair_coeff'].get_metadata()  \n",
    "            for pair_dict in pair_list:                                 \n",
    "                # Scale the epsilon values by e_factor                  \n",
    "                try:                                                    \n",
    "                    a, b, new_dict = set_coeffs(                        \n",
    "                            pair_dict,                                  \n",
    "                            e_factor                               \n",
    "                            )                                           \n",
    "                    lj.pair_coeff.set(a, b, **new_dict)                 \n",
    "                except ValueError:                                      \n",
    "                    # if the pair has not been defined,                 \n",
    "                    # it will not have a dictionary object              \n",
    "                    # instead it will be a string (e.g. \"ca-ca\")        \n",
    "                    # and will fail when trying to make the new_dict    \n",
    "                    pass       \n",
    "\n",
    "    #for force in sim.forces:\n",
    "    #    try:\n",
    "    #        print(force.pair_coeff.values,\"\\n\")\n",
    "    #    except AttributeError:\n",
    "    #        pass\n",
    "    \n",
    "    integrator_mode = hoomd.md.integrate.mode_standard(dt=0.001)      \n",
    "    all_particles = hoomd.group.all()                          \n",
    "    try:\n",
    "        integrator = hoomd.md.integrate.nvt(                                \n",
    "            group=both, tau=1, kT=1    \n",
    "        )          \n",
    "    except NameError:\n",
    "        # both does not exist\n",
    "        integrator = hoomd.md.integrate.nvt(                                \n",
    "            group=all_particles, tau=1, kT=1    \n",
    "        )       "
   ]
  },
  {
   "cell_type": "code",
   "execution_count": 7,
   "metadata": {},
   "outputs": [
    {
     "name": "stdout",
     "output_type": "stream",
     "text": [
      "notice(2): -- Neighborlist exclusion statistics -- :\n",
      "notice(2): Particles with 0 exclusions             : 10\n",
      "notice(2): Particles with 7 exclusions             : 60\n",
      "notice(2): Particles with 10 exclusions             : 60\n",
      "notice(2): Neighbors included by diameter          : no\n",
      "notice(2): Neighbors excluded when in the same body: yes\n",
      "** starting run **\n",
      "Time 00:00:01 | Step 10000 / 10000 | TPS 7070.07 | ETA 00:00:00\n",
      "Average TPS: 7065.34\n",
      "---------\n",
      "-- Neighborlist stats:\n",
      "100 normal updates / 100 forced updates / 0 dangerous updates\n",
      "n_neigh_min: 0 / n_neigh_max: 5 / n_neigh_avg: 1.61538\n",
      "shortest rebuild period: 50\n",
      "-- Cell list stats:\n",
      "Dimension: 46, 46, 46\n",
      "n_min    : 0 / n_max: 13 / n_avg: 0.00133558\n",
      "** run complete **\n"
     ]
    }
   ],
   "source": [
    "with sim:\n",
    "    hoomd.dump.gsd(                                                     \n",
    "        filename=\"trajectory.gsd\",                                      \n",
    "        period=1e3,                                          \n",
    "        group=all_particles,                                            \n",
    "        overwrite=False,                                                \n",
    "        phase=0,                                                        \n",
    "    )  \n",
    "    integrator.randomize_velocities(seed=42)\n",
    "    hoomd.run(1e4)"
   ]
  },
  {
   "cell_type": "markdown",
   "metadata": {},
   "source": [
    "# Working example with Rigid Bodies\n",
    "\n",
    "Let's start with a simple case--a benzene molcule."
   ]
  },
  {
   "cell_type": "code",
   "execution_count": 6,
   "metadata": {},
   "outputs": [],
   "source": [
    "bz_str = \"c1ccccc1\"\n",
    "bz = mb.load(bz_str, smiles=True, ignore_box_warn=True)\n",
    "name = \"bz\"\n",
    "bz.name = name\n",
    "#bz.visualize().show()"
   ]
  },
  {
   "cell_type": "code",
   "execution_count": 7,
   "metadata": {},
   "outputs": [],
   "source": [
    "#npt_str = \"c1ccc2ccccc2c1\"\n",
    "#npt = mb.load(npt_str, smiles=True, ignore_box_warn=True)\n",
    "#npt.visualize().show()"
   ]
  },
  {
   "cell_type": "code",
   "execution_count": 8,
   "metadata": {},
   "outputs": [],
   "source": [
    "#py_str = \"c1cc2cccc3ccc4cccc1c4c32\"\n",
    "#py = mb.load(py_str, smiles=True, ignore_box_warn=True)\n",
    "#py.visualize().show()"
   ]
  },
  {
   "cell_type": "markdown",
   "metadata": {},
   "source": [
    "Let's try fixing the orientation of the benzene molecules when we fill the box--I think that might make it work better with rigid bodies."
   ]
  },
  {
   "cell_type": "code",
   "execution_count": 9,
   "metadata": {},
   "outputs": [],
   "source": [
    "box = mb.Box([5,5,5])\n",
    "system = mb.fill_box(bz, n_compounds=10, box=box, fix_orientation=True)\n",
    "#system.visualize().show()"
   ]
  },
  {
   "cell_type": "code",
   "execution_count": 10,
   "metadata": {},
   "outputs": [],
   "source": [
    "gaff = foyer.forcefields.load_GAFF()\n",
    "pmd_system = system.to_parmed(residues=[name])\n",
    "typed_system = gaff.apply(system)\n",
    "#print(set([atom.type for atom in typed_system.atoms]))"
   ]
  },
  {
   "cell_type": "markdown",
   "metadata": {},
   "source": [
    "\n",
    "I'm using mbuild from [PR #808](https://github.com/mosdef-hub/mbuild/pull/808) which allows `create_hoomd_simulation` to read in a snapshot:\n",
    "\n",
    "```\n",
    "create_hoomd_simulation(structure, ref_distance=1.0, ref_mass=1.0, ref_energy=1.0, r_cut=1.2, auto_scale=False, snapshot_kwargs={}, pppm_kwargs={'Nx': 8, 'Ny': 8, 'Nz': 8, 'order': 4}, init_snap=None)\n",
    "```\n",
    "\n",
    "First, make a snapshot with 10 rigid particles--one for each benzene ring:"
   ]
  },
  {
   "cell_type": "code",
   "execution_count": 11,
   "metadata": {},
   "outputs": [],
   "source": [
    "sim = hoomd.context.SimulationContext()\n",
    "\n",
    "with sim:\n",
    "    hoomd.context.initialize(\"\")\n",
    "    init_snap = make_snapshot(N=10, particle_types=[\"_R\"], box=hoomd.data.boxdim(L=10))"
   ]
  },
  {
   "cell_type": "code",
   "execution_count": 12,
   "metadata": {},
   "outputs": [
    {
     "name": "stdout",
     "output_type": "stream",
     "text": [
      "notice(2): Group \"all\" created containing 130 particles\n",
      "notice(2): -- Neighborlist exclusion statistics -- :\n",
      "notice(2): Particles with 0 exclusions             : 10\n",
      "notice(2): Particles with 3 exclusions             : 60\n",
      "notice(2): Particles with 7 exclusions             : 60\n",
      "notice(2): Neighbors included by diameter          : no\n",
      "notice(2): Neighbors excluded when in the same body: no\n",
      "Processing LJ and QQ\n",
      "notice(2): Group \"charged\" created containing 0 particles\n",
      "No charged groups found, ignoring electrostatics\n",
      "Processing 1-4 interactions, adjusting neighborlist exclusions\n",
      "Processing harmonic bonds\n",
      "Processing harmonic angles\n",
      "Processing periodic torsions\n",
      "HOOMD SimulationContext updated from ParmEd Structure\n"
     ]
    }
   ],
   "source": [
    "with sim:\n",
    "    hoomd_objects, ref_values = create_hoomd_simulation(\n",
    "        typed_system, auto_scale=True, init_snap=init_snap\n",
    "    )\n",
    "    snap = hoomd_objects[0]"
   ]
  },
  {
   "cell_type": "markdown",
   "metadata": {},
   "source": [
    "Want to do something with [ring detection](https://openbabel.org/wiki/Ring_detection) where rings are automatically converted to rigid bodies.\n",
    "\n",
    "- convert to pybel mol\n",
    "- use smarts matching to find rings\n",
    "- make rigid\n",
    "\n",
    "[SSSR documentation](http://openbabel.org/dev-api/classOpenBabel_1_1OBRing.shtml#_details)"
   ]
  },
  {
   "cell_type": "code",
   "execution_count": 13,
   "metadata": {},
   "outputs": [
    {
     "name": "stdout",
     "output_type": "stream",
     "text": [
      "10\n"
     ]
    }
   ],
   "source": [
    "system_mol = system.to_pybel()\n",
    "rings = sorted(connect_rings(system_mol), key=lambda x: x[0])\n",
    "\n",
    "#print(*rings, sep=\"\\n\")\n",
    "print(len(rings))"
   ]
  },
  {
   "cell_type": "markdown",
   "metadata": {},
   "source": [
    "Now let's move the rigid body centers to the center of the ring and set the body IDs"
   ]
  },
  {
   "cell_type": "code",
   "execution_count": 10,
   "metadata": {},
   "outputs": [],
   "source": [
    "for i,ring in enumerate(rings):\n",
    "    inds = ring + len(rings)\n",
    "    snap.particles.position[i] = np.mean(snap.particles.position[inds], axis=0)\n",
    "    snap.particles.body[i] = i\n",
    "    snap.particles.body[inds] = i * np.ones(len(ring))"
   ]
  },
  {
   "cell_type": "markdown",
   "metadata": {},
   "source": [
    "I am using [this example](http://farside.ph.utexas.edu/teaching/336k/Newtonhtml/node64.html) for how to calculate the moment of inertia tensor (also Matty/Mike/someone's code from cmeutils)\n",
    "\n",
    "From [hoomd docs](https://hoomd-blue.readthedocs.io/en/v2.9.3/module-md-constrain.html#hoomd.md.constrain.rigid)\n",
    ">The mass and moment of inertia of the central particle set the full mass and moment of inertia of the rigid body (constituent particle mass is ignored).\n",
    "\n",
    ">The central particle is at the center of mass of the rigid body and the orientation quaternion defines the rotation from the body space into the simulation box. In body space, the center of mass of the body is at 0,0,0 and the moment of inertia is diagonal. "
   ]
  },
  {
   "cell_type": "code",
   "execution_count": 11,
   "metadata": {},
   "outputs": [],
   "source": [
    "for i,ring in enumerate(rings):\n",
    "    inds = ring + len(rings)\n",
    "    snap.particles.moment_inertia[i] = moit(\n",
    "        snap.particles.position[inds], snap.particles.mass[inds], center=snap.particles.position[i]\n",
    "    )\n",
    "    snap.particles.mass[i] = np.sum(snap.particles.mass[inds])"
   ]
  },
  {
   "cell_type": "code",
   "execution_count": 12,
   "metadata": {},
   "outputs": [],
   "source": [
    "# need to reinitialize\n",
    "sim.system_definition.initializeFromSnapshot(snap)"
   ]
  },
  {
   "cell_type": "code",
   "execution_count": 13,
   "metadata": {},
   "outputs": [
    {
     "name": "stdout",
     "output_type": "stream",
     "text": [
      "notice(2): -- Neighborlist exclusion statistics -- :\n",
      "notice(2): Particles with 0 exclusions             : 10\n",
      "notice(2): Particles with 7 exclusions             : 60\n",
      "notice(2): Particles with 10 exclusions             : 60\n",
      "notice(2): Neighbors included by diameter          : no\n",
      "notice(2): Neighbors excluded when in the same body: yes\n",
      "['1-2', '1-3', '1-4', 'body']\n"
     ]
    }
   ],
   "source": [
    "nl = sim.neighbor_lists[0]\n",
    "ex_list = nl.exclusions \n",
    "ex_list.append('body')\n",
    "sim.neighbor_lists[0].reset_exclusions(exclusions=ex_list)\n",
    "\n",
    "print(sim.neighbor_lists[0].exclusions)"
   ]
  },
  {
   "cell_type": "code",
   "execution_count": 14,
   "metadata": {},
   "outputs": [
    {
     "name": "stdout",
     "output_type": "stream",
     "text": [
      "notice(2): Group \"rigid_center\" created containing 10 particles\n",
      "notice(2): Group \"nonrigid\" created containing 60 particles\n",
      "notice(2): integrate.langevin/bd is using specified gamma values\n",
      "notice(2): integrate.langevin/bd is using specified gamma values\n",
      "notice(2): -- Neighborlist exclusion statistics -- :\n",
      "notice(2): Particles with 0 exclusions             : 10\n",
      "notice(2): Particles with 7 exclusions             : 60\n",
      "notice(2): Particles with 10 exclusions             : 60\n",
      "notice(2): Neighbors included by diameter          : no\n",
      "notice(2): Neighbors excluded when in the same body: yes\n",
      "** starting run **\n"
     ]
    },
    {
     "name": "stderr",
     "output_type": "stream",
     "text": [
      "*Warning*: Integrator #1: Anisotropic integration requested, but no rotational degrees of freedom found for its group\n"
     ]
    },
    {
     "name": "stdout",
     "output_type": "stream",
     "text": [
      "Time 00:00:20 | Step 50000 / 50000 | TPS 9010.01 | ETA 00:00:00\n",
      "Average TPS: 9008.75\n",
      "---------\n",
      "-- Neighborlist stats:\n",
      "0 normal updates / 500 forced updates / 0 dangerous updates\n",
      "n_neigh_min: 0 / n_neigh_max: 6 / n_neigh_avg: 1.61538\n",
      "shortest rebuild period: 100\n",
      "-- Cell list stats:\n",
      "Dimension: 9, 9, 9\n",
      "n_min    : 0 / n_max: 12 / n_avg: 0.178326\n",
      "** run complete **\n"
     ]
    }
   ],
   "source": [
    "with sim:\n",
    "    rigid = hoomd.md.constrain.rigid()\n",
    "    \n",
    "    r_pos = snap.particles.position[0]\n",
    "    const_pos = snap.particles.position[rings[0]+len(rings)]\n",
    "    const_pos -= r_pos\n",
    "    #print(r_pos,const_pos)\n",
    "    \n",
    "    const_types = [snap.particles.types[i] for i in snap.particles.typeid[rings[0]+len(rings)]]\n",
    "    #print(const_types)\n",
    "    \n",
    "    rigid.set_param(\"_R\", types=const_types, positions=[tuple(i) for i in const_pos])\n",
    "    rigid.validate_bodies()\n",
    "    \n",
    "    lj = sim.forces[0]\n",
    "    lj.pair_coeff.set(\"_R\", snap.particles.types, epsilon=0, sigma=0)\n",
    "    \n",
    "    centers = hoomd.group.rigid_center()\n",
    "    nonrigid = hoomd.group.nonrigid()\n",
    "    _all = hoomd.group.all()\n",
    "    \n",
    "    hoomd.md.integrate.mode_standard(dt=0.0001);\n",
    "    hoomd.md.integrate.langevin(group=centers, kT=1.0, seed=42);\n",
    "    hoomd.md.integrate.langevin(group=nonrigid, kT=1.0, seed=42);\n",
    "    hoomd.dump.gsd(filename=\"start.gsd\", overwrite=True, period=None, group=_all, time_step=0)\n",
    "    hoomd.dump.gsd(\"trajectory.gsd\", period=1e3, group=_all, overwrite=True)\n",
    "    hoomd.run(5e4)"
   ]
  },
  {
   "cell_type": "code",
   "execution_count": 15,
   "metadata": {},
   "outputs": [],
   "source": [
    "with sim:\n",
    "    hoomd.dump.gsd(filename=\"after.gsd\", overwrite=True, period=None, group=hoomd.group.all())"
   ]
  }
 ],
 "metadata": {
  "kernelspec": {
   "display_name": "Python 3",
   "language": "python",
   "name": "python3"
  },
  "language_info": {
   "codemirror_mode": {
    "name": "ipython",
    "version": 3
   },
   "file_extension": ".py",
   "mimetype": "text/x-python",
   "name": "python",
   "nbconvert_exporter": "python",
   "pygments_lexer": "ipython3",
   "version": "3.7.8"
  }
 },
 "nbformat": 4,
 "nbformat_minor": 4
}
