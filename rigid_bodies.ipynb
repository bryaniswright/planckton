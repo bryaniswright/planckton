{
 "cells": [
  {
   "cell_type": "code",
   "execution_count": 1,
   "metadata": {},
   "outputs": [
    {
     "name": "stderr",
     "output_type": "stream",
     "text": [
      "/Users/jenny/miniconda3/envs/planckton/lib/python3.7/site-packages/mdtraj/core/trajectory.py:32: DeprecationWarning: Using or importing the ABCs from 'collections' instead of from 'collections.abc' is deprecated since Python 3.3,and in 3.9 it will stop working\n",
      "  from collections import Iterable\n"
     ]
    }
   ],
   "source": [
    "import foyer\n",
    "import hoomd\n",
    "from hoomd.data import make_snapshot\n",
    "import mbuild as mb\n",
    "from mbuild.formats.hoomd_simulation import create_hoomd_simulation\n",
    "import numpy as np\n",
    "\n",
    "from planckton.utils.rigid import connect_rings"
   ]
  },
  {
   "cell_type": "code",
   "execution_count": 2,
   "metadata": {},
   "outputs": [],
   "source": [
    "bz_str = \"c1ccccc1\"\n",
    "bz = mb.load(bz_str, smiles=True, ignore_box_warn=True)\n",
    "name = \"bz\"\n",
    "bz.name = name\n",
    "#bz.visualize().show()"
   ]
  },
  {
   "cell_type": "code",
   "execution_count": 3,
   "metadata": {},
   "outputs": [],
   "source": [
    "#npt_str = \"c1ccc2ccccc2c1\"\n",
    "#npt = mb.load(npt_str, smiles=True, ignore_box_warn=True)\n",
    "#npt.visualize().show()"
   ]
  },
  {
   "cell_type": "code",
   "execution_count": 4,
   "metadata": {},
   "outputs": [],
   "source": [
    "#py_str = \"c1cc2cccc3ccc4cccc1c4c32\"\n",
    "#py = mb.load(py_str, smiles=True, ignore_box_warn=True)\n",
    "#py.visualize().show()"
   ]
  },
  {
   "cell_type": "code",
   "execution_count": 5,
   "metadata": {},
   "outputs": [],
   "source": [
    "box = mb.Box([5,5,5])\n",
    "system = mb.fill_box(bz, n_compounds=10, box=box)\n",
    "#system.visualize().show()"
   ]
  },
  {
   "cell_type": "code",
   "execution_count": 6,
   "metadata": {},
   "outputs": [
    {
     "name": "stderr",
     "output_type": "stream",
     "text": [
      "/Users/jenny/miniconda3/envs/planckton/lib/python3.7/site-packages/foyer/forcefield.py:449: UserWarning: No force field version number found in force field XML file.\n",
      "  'No force field version number found in force field XML file.'\n",
      "/Users/jenny/miniconda3/envs/planckton/lib/python3.7/site-packages/foyer/forcefield.py:461: UserWarning: No force field name found in force field XML file.\n",
      "  'No force field name found in force field XML file.'\n",
      "/Users/jenny/miniconda3/envs/planckton/lib/python3.7/site-packages/foyer/validator.py:132: ValidationWarning: You have empty smart definition(s)\n",
      "  warn(\"You have empty smart definition(s)\", ValidationWarning)\n"
     ]
    }
   ],
   "source": [
    "gaff = foyer.forcefields.load_GAFF()\n",
    "pmd_system = system.to_parmed(residues=[name])\n",
    "typed_system = gaff.apply(system)\n",
    "#print(set([atom.type for atom in typed_system.atoms]))"
   ]
  },
  {
   "cell_type": "markdown",
   "metadata": {},
   "source": [
    "On feat/rigid branch of my fork of mbuild, an initial snapshot can be passed in:\n",
    "\n",
    "```\n",
    "create_hoomd_simulation(structure, ref_distance=1.0, ref_mass=1.0, ref_energy=1.0, r_cut=1.2, auto_scale=False, snapshot_kwargs={}, pppm_kwargs={'Nx': 8, 'Ny': 8, 'Nz': 8, 'order': 4}, init_snap=None)\n",
    "```\n",
    "\n",
    "First, make a snapshot with 10 rigid particles--one for each benzene ring:"
   ]
  },
  {
   "cell_type": "code",
   "execution_count": 7,
   "metadata": {},
   "outputs": [
    {
     "name": "stdout",
     "output_type": "stream",
     "text": [
      "HOOMD-blue 2.9.3 DOUBLE HPMC_MIXED TBB SSE SSE2 SSE3 \n",
      "Compiled: 10/17/2020\n",
      "Copyright (c) 2009-2019 The Regents of the University of Michigan.\n",
      "-----\n",
      "You are using HOOMD-blue. Please cite the following:\n",
      "* J A Anderson, J Glaser, and S C Glotzer. \"HOOMD-blue: A Python package for\n",
      "  high-performance molecular dynamics and hard particle Monte Carlo\n",
      "  simulations\", Computational Materials Science 173 (2020) 109363\n",
      "-----\n",
      "HOOMD-blue is running on the CPU\n"
     ]
    }
   ],
   "source": [
    "sim = hoomd.context.SimulationContext()\n",
    "\n",
    "with sim:\n",
    "    hoomd.context.initialize(\"\")\n",
    "    init_snap = make_snapshot(N=10, particle_types=[\"_R\"], box=hoomd.data.boxdim(L=10))"
   ]
  },
  {
   "cell_type": "code",
   "execution_count": 8,
   "metadata": {},
   "outputs": [
    {
     "name": "stdout",
     "output_type": "stream",
     "text": [
      "notice(2): Group \"all\" created containing 130 particles\n",
      "notice(2): -- Neighborlist exclusion statistics -- :\n",
      "notice(2): Particles with 0 exclusions             : 10\n",
      "notice(2): Particles with 3 exclusions             : 60\n",
      "notice(2): Particles with 7 exclusions             : 60\n",
      "notice(2): Neighbors included by diameter          : no\n",
      "notice(2): Neighbors excluded when in the same body: no\n",
      "Processing LJ and QQ\n",
      "notice(2): Group \"charged\" created containing 0 particles\n",
      "No charged groups found, ignoring electrostatics\n",
      "Processing 1-4 interactions, adjusting neighborlist exclusions\n",
      "Processing harmonic bonds\n",
      "Processing harmonic angles\n",
      "Processing periodic torsions\n",
      "HOOMD SimulationContext updated from ParmEd Structure\n"
     ]
    }
   ],
   "source": [
    "with sim:\n",
    "    hoomd_objects, ref_values = create_hoomd_simulation(\n",
    "        typed_system, auto_scale=True, init_snap=init_snap\n",
    "    )\n",
    "    snap = hoomd_objects[0]"
   ]
  },
  {
   "cell_type": "markdown",
   "metadata": {},
   "source": [
    "Want to do something with [ring detection](https://openbabel.org/wiki/Ring_detection) where rings are automatically converted to rigid bodies.\n",
    "\n",
    "- convert to pybel mol\n",
    "- use smarts matching to find rings\n",
    "- make rigid\n",
    "\n",
    "[SSSR documentation](http://openbabel.org/dev-api/classOpenBabel_1_1OBRing.shtml#_details)"
   ]
  },
  {
   "cell_type": "code",
   "execution_count": 9,
   "metadata": {},
   "outputs": [],
   "source": [
    "system_mol = system.to_pybel()\n",
    "rings = sorted(connect_rings(system_mol), key=lambda x: x[0])\n",
    "\n",
    "#print(*rings, sep=\"\\n\")\n",
    "#print(len(rings))"
   ]
  },
  {
   "cell_type": "markdown",
   "metadata": {},
   "source": [
    "Now let's move the rigid body centers to the center of the ring and set the body IDs"
   ]
  },
  {
   "cell_type": "code",
   "execution_count": 10,
   "metadata": {},
   "outputs": [],
   "source": [
    "for i,ring in enumerate(rings):\n",
    "    inds = ring + len(rings)\n",
    "    snap.particles.position[i] = np.mean(snap.particles.position[inds], axis=0)\n",
    "    snap.particles.body[i] = i\n",
    "    snap.particles.body[inds] = i * np.ones(len(ring))"
   ]
  },
  {
   "cell_type": "code",
   "execution_count": 13,
   "metadata": {},
   "outputs": [
    {
     "name": "stdout",
     "output_type": "stream",
     "text": [
      "[         0          1          2          3          4          5\n",
      "          6          7          8          9          0          0\n",
      "          0          0          0          0 4294967295 4294967295\n",
      " 4294967295 4294967295 4294967295 4294967295          1          1\n",
      "          1          1          1          1 4294967295 4294967295\n",
      " 4294967295 4294967295 4294967295 4294967295          2          2\n",
      "          2          2          2          2 4294967295 4294967295\n",
      " 4294967295 4294967295 4294967295 4294967295          3          3\n",
      "          3          3          3          3 4294967295 4294967295\n",
      " 4294967295 4294967295 4294967295 4294967295          4          4\n",
      "          4          4          4          4 4294967295 4294967295\n",
      " 4294967295 4294967295 4294967295 4294967295          5          5\n",
      "          5          5          5          5 4294967295 4294967295\n",
      " 4294967295 4294967295 4294967295 4294967295          6          6\n",
      "          6          6          6          6 4294967295 4294967295\n",
      " 4294967295 4294967295 4294967295 4294967295          7          7\n",
      "          7          7          7          7 4294967295 4294967295\n",
      " 4294967295 4294967295 4294967295 4294967295          8          8\n",
      "          8          8          8          8 4294967295 4294967295\n",
      " 4294967295 4294967295 4294967295 4294967295          9          9\n",
      "          9          9          9          9 4294967295 4294967295\n",
      " 4294967295 4294967295 4294967295 4294967295]\n"
     ]
    }
   ],
   "source": [
    "print(snap.particles.body)\n",
    "#print(snap.particles.position)"
   ]
  },
  {
   "cell_type": "code",
   "execution_count": 12,
   "metadata": {},
   "outputs": [
    {
     "name": "stderr",
     "output_type": "stream",
     "text": [
      "**ERROR**: constrain.rigid(): Central particles must have a body tag identical to their contiguous tag.\n"
     ]
    },
    {
     "name": "stdout",
     "output_type": "stream",
     "text": [
      "[-1.4753485 -2.2619445 -3.6145627] [[-0.03797805  0.3224213  -0.25076008]\n",
      " [ 0.12618876 -0.02723575 -0.3895805 ]\n",
      " [ 0.15876317 -0.35131502 -0.13995862]\n",
      " [ 0.03850293 -0.32225466  0.25089145]\n",
      " [-0.12214649  0.02861571  0.39078164]\n",
      " [-0.16333055  0.3497684   0.13862634]]\n",
      "['ca', 'ca', 'ca', 'ca', 'ca', 'ca']\n"
     ]
    },
    {
     "ename": "RuntimeError",
     "evalue": "Error validating rigid bodies\n",
     "output_type": "error",
     "traceback": [
      "\u001b[0;31m---------------------------------------------------------------------------\u001b[0m",
      "\u001b[0;31mRuntimeError\u001b[0m                              Traceback (most recent call last)",
      "\u001b[0;32m<ipython-input-12-bba9c6f22dd1>\u001b[0m in \u001b[0;36m<module>\u001b[0;34m\u001b[0m\n\u001b[1;32m     13\u001b[0m         \u001b[0mpositions\u001b[0m\u001b[0;34m=\u001b[0m\u001b[0;34m[\u001b[0m\u001b[0mtuple\u001b[0m\u001b[0;34m(\u001b[0m\u001b[0mi\u001b[0m\u001b[0;34m)\u001b[0m \u001b[0;32mfor\u001b[0m \u001b[0mi\u001b[0m \u001b[0;32min\u001b[0m \u001b[0mconst_pos\u001b[0m\u001b[0;34m]\u001b[0m\u001b[0;34m\u001b[0m\u001b[0;34m\u001b[0m\u001b[0m\n\u001b[1;32m     14\u001b[0m     )\n\u001b[0;32m---> 15\u001b[0;31m     \u001b[0mrigid\u001b[0m\u001b[0;34m.\u001b[0m\u001b[0mvalidate_bodies\u001b[0m\u001b[0;34m(\u001b[0m\u001b[0;34m)\u001b[0m\u001b[0;34m\u001b[0m\u001b[0;34m\u001b[0m\u001b[0m\n\u001b[0m\u001b[1;32m     16\u001b[0m \u001b[0;34m\u001b[0m\u001b[0m\n\u001b[1;32m     17\u001b[0m     \u001b[0mcenters\u001b[0m \u001b[0;34m=\u001b[0m \u001b[0mhoomd\u001b[0m\u001b[0;34m.\u001b[0m\u001b[0mgroup\u001b[0m\u001b[0;34m.\u001b[0m\u001b[0mrigid\u001b[0m\u001b[0;34m(\u001b[0m\u001b[0;34m)\u001b[0m\u001b[0;34m\u001b[0m\u001b[0;34m\u001b[0m\u001b[0m\n",
      "\u001b[0;32m~/miniconda3/envs/planckton/lib/python3.7/site-packages/hoomd/md/constrain.py\u001b[0m in \u001b[0;36mvalidate_bodies\u001b[0;34m(self)\u001b[0m\n\u001b[1;32m    471\u001b[0m         R\"\"\" Validate that bodies are well defined and prepare for the simulation run.\n\u001b[1;32m    472\u001b[0m         \"\"\"\n\u001b[0;32m--> 473\u001b[0;31m         \u001b[0mself\u001b[0m\u001b[0;34m.\u001b[0m\u001b[0mcpp_force\u001b[0m\u001b[0;34m.\u001b[0m\u001b[0mvalidateRigidBodies\u001b[0m\u001b[0;34m(\u001b[0m\u001b[0;32mFalse\u001b[0m\u001b[0;34m)\u001b[0m\u001b[0;34m\u001b[0m\u001b[0;34m\u001b[0m\u001b[0m\n\u001b[0m\u001b[1;32m    474\u001b[0m \u001b[0;34m\u001b[0m\u001b[0m\n\u001b[1;32m    475\u001b[0m     \u001b[0;31m## \\internal\u001b[0m\u001b[0;34m\u001b[0m\u001b[0;34m\u001b[0m\u001b[0;34m\u001b[0m\u001b[0m\n",
      "\u001b[0;31mRuntimeError\u001b[0m: Error validating rigid bodies\n"
     ]
    }
   ],
   "source": [
    "with sim:\n",
    "    rigid = hoomd.md.constrain.rigid()\n",
    "    \n",
    "    r_pos = snap.particles.position[0]\n",
    "    const_pos = snap.particles.position[rings[0]+len(rings)]\n",
    "    const_pos -= r_pos\n",
    "    #print(r_pos,const_pos)\n",
    "    \n",
    "    const_types = [snap.particles.types[i] for i in snap.particles.typeid[rings[0]+len(rings)]]\n",
    "    #print(const_types)\n",
    "    \n",
    "    rigid.set_param(\"_R\", types=const_types, positions=[tuple(i) for i in const_pos])\n",
    "    rigid.validate_bodies()\n",
    "    \n",
    "    centers = hoomd.group.rigid()\n",
    "    nonrigid = hoomd.group.nonrigid()\n",
    "\n",
    "    hoomd.md.integrate.langevin(group=centers, kT=1.0, seed=42);\n",
    "    hoomd.md.integrate.langevin(group=nonrigid, kT=1.0, seed=42);\n",
    "    hoomd.run(1e4)"
   ]
  },
  {
   "cell_type": "code",
   "execution_count": 16,
   "metadata": {},
   "outputs": [
    {
     "name": "stdout",
     "output_type": "stream",
     "text": [
      "Help on method set_param in module hoomd.md.constrain:\n",
      "\n",
      "set_param(type_name, types, positions, orientations=None, charges=None, diameters=None) method of hoomd.md.constrain.rigid instance\n",
      "    Set constituent particle types and coordinates for a rigid body.\n",
      "    \n",
      "    Args:\n",
      "        type_name (str): The type of the central particle\n",
      "        types (list): List of types of constituent particles\n",
      "        positions (list): List of relative positions of constituent particles\n",
      "        orientations (list): List of orientations of constituent particles (**optional**)\n",
      "        charge (list): List of charges of constituent particles (**optional**)\n",
      "        diameters (list): List of diameters of constituent particles (**optional**)\n",
      "    \n",
      "    .. caution::\n",
      "        The constituent particle type must be exist.\n",
      "        If it does not exist, it can be created on the fly using\n",
      "        ``system.particles.types.add('A_const')`` (see :py:mod:`hoomd.data`).\n",
      "    \n",
      "    Example::\n",
      "    \n",
      "        rigid = constrain.rigid()\n",
      "        rigid.set_param('A', types = ['A_const', 'A_const'], positions = [(0,0,1),(0,0,-1)])\n",
      "        rigid.set_param('B', types = ['B_const', 'B_const'], positions = [(0,0,.5),(0,0,-.5)])\n",
      "\n"
     ]
    }
   ],
   "source": [
    "help(rigid.set_param)"
   ]
  },
  {
   "cell_type": "code",
   "execution_count": null,
   "metadata": {},
   "outputs": [],
   "source": []
  }
 ],
 "metadata": {
  "kernelspec": {
   "display_name": "Python 3",
   "language": "python",
   "name": "python3"
  },
  "language_info": {
   "codemirror_mode": {
    "name": "ipython",
    "version": 3
   },
   "file_extension": ".py",
   "mimetype": "text/x-python",
   "name": "python",
   "nbconvert_exporter": "python",
   "pygments_lexer": "ipython3",
   "version": "3.7.8"
  }
 },
 "nbformat": 4,
 "nbformat_minor": 4
}
