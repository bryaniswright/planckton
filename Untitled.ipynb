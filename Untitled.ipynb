{
 "cells": [
  {
   "cell_type": "code",
   "execution_count": 1,
   "id": "6c11456b",
   "metadata": {},
   "outputs": [],
   "source": [
    "from planckton.compounds import COMPOUND\n",
    "from planckton.forcefields import FORCEFIELD\n",
    "from planckton.init import Compound, Pack\n",
    "from planckton.sim import Simulation\n",
    "import unyt as u"
   ]
  },
  {
   "cell_type": "code",
   "execution_count": 2,
   "id": "88f279a0",
   "metadata": {},
   "outputs": [
    {
     "name": "stderr",
     "output_type": "stream",
     "text": [
      "/Users/bryanwright/miniconda3/envs/planckton/lib/python3.7/site-packages/ipykernel/ipkernel.py:283: DeprecationWarning: `should_run_async` will not call `transform_cell` automatically in the future. Please pass the result to `transformed_cell` argument and any exception that happen during thetransform in `preprocessing_exc_tuple` in IPython 7.17 and above.\n",
      "  and should_run_async(code)\n"
     ]
    }
   ],
   "source": [
    "compound = Compound(COMPOUND[\"ICBA.mol2\"])"
   ]
  },
  {
   "cell_type": "code",
   "execution_count": 5,
   "id": "33f61f03",
   "metadata": {},
   "outputs": [
    {
     "name": "stderr",
     "output_type": "stream",
     "text": [
      "/Users/bryanwright/miniconda3/envs/planckton/lib/python3.7/site-packages/ipykernel/ipkernel.py:283: DeprecationWarning: `should_run_async` will not call `transform_cell` automatically in the future. Please pass the result to `transformed_cell` argument and any exception that happen during thetransform in `preprocessing_exc_tuple` in IPython 7.17 and above.\n",
      "  and should_run_async(code)\n"
     ]
    },
    {
     "name": "stdout",
     "output_type": "stream",
     "text": [
      "notice(2): Group \"all\" created containing 188 particles\n",
      "notice(2): -- Neighborlist exclusion statistics -- :\n",
      "notice(2): Particles with 3 exclusions             : 16\n",
      "notice(2): Particles with 4 exclusions             : 16\n",
      "notice(2): Particles with 7 exclusions             : 16\n",
      "notice(2): Particles with 9 exclusions             : 96\n",
      "notice(2): Particles with 10 exclusions             : 28\n",
      "notice(2): Particles with 12 exclusions             : 8\n",
      "notice(2): Particles with 14 exclusions             : 8\n",
      "notice(2): Neighbors included by diameter          : no\n",
      "notice(2): Neighbors excluded when in the same body: no\n",
      "Processing LJ and QQ\n",
      "notice(2): Group \"charged\" created containing 0 particles\n",
      "No charged groups found, ignoring electrostatics\n",
      "Processing 1-4 interactions, adjusting neighborlist exclusions\n",
      "Processing harmonic bonds\n",
      "Processing harmonic angles\n",
      "Processing periodic torsions\n",
      "HOOMD SimulationContext updated from ParmEd Structure\n",
      "** starting run **\n",
      "Time 00:00:00 | Step 1000 / 1000 | TPS 1361.67 | ETA 00:00:00\n"
     ]
    },
    {
     "name": "stderr",
     "output_type": "stream",
     "text": [
      "/Users/bryanwright/miniconda3/envs/planckton/lib/python3.7/site-packages/foyer/forcefield.py:267: UserWarning: Parameters have not been assigned to all proper dihedrals. Total system dihedrals: 1060, Parameterized dihedrals: 892. Note that if your system contains torsions of Ryckaert-Bellemans functional form, all of these torsions are processed as propers.\n",
      "  warnings.warn(msg)\n",
      "/Users/bryanwright/miniconda3/envs/planckton/lib/python3.7/site-packages/foyer/forcefield.py:267: UserWarning: Parameters have not been assigned to all impropers. Total system impropers: 216, Parameterized impropers: 32. Note that if your system contains torsions of Ryckaert-Bellemans functional form, all of these torsions are processed as propers\n",
      "  warnings.warn(msg)\n"
     ]
    },
    {
     "name": "stdout",
     "output_type": "stream",
     "text": [
      "Average TPS: 1359.45\n",
      "---------\n",
      "-- Neighborlist stats:\n",
      "39 normal updates / 10 forced updates / 0 dangerous updates\n",
      "n_neigh_min: 0 / n_neigh_max: 63 / n_neigh_avg: 26.1915\n",
      "shortest rebuild period: 14\n",
      "-- Cell list stats:\n",
      "Dimension: 2, 2, 2\n",
      "n_min    : 1 / n_max: 58 / n_avg: 23.5\n",
      "** run complete **\n",
      "** starting run **\n",
      "Time 00:00:01 | Step 4001 / 4001 | TPS 2549.27 | ETA 00:00:00\n",
      "Average TPS: 2546.22\n",
      "---------\n",
      "-- Neighborlist stats:\n",
      "85 normal updates / 31 forced updates / 0 dangerous updates\n",
      "n_neigh_min: 0 / n_neigh_max: 40 / n_neigh_avg: 19.4149\n",
      "shortest rebuild period: 19\n",
      "-- Cell list stats:\n",
      "Dimension: 2, 2, 2\n",
      "n_min    : 9 / n_max: 37 / n_avg: 23.5\n",
      "** run complete **\n",
      "Restart file written\n"
     ]
    }
   ],
   "source": [
    "packer = Pack(compound, ff=FORCEFIELD[\"gaff\"],\n",
    "              n_compounds=2, density=1.0 * u.g / u.cm ** 3)\n",
    "system = packer.pack()\n",
    "my_sim = Simulation(\n",
    "    system,\n",
    "    kT=.8,\n",
    "    gsd_write=1e2,\n",
    "    log_write=1e2,\n",
    "    e_factor=1,\n",
    "    n_steps=3e3,\n",
    "    mode=\"cpu\",\n",
    "    shrink_steps=1e3,\n",
    "    target_length=packer.L,\n",
    ")\n",
    "my_sim.run()"
   ]
  },
  {
   "cell_type": "code",
   "execution_count": 4,
   "id": "75940e87",
   "metadata": {},
   "outputs": [
    {
     "name": "stdout",
     "output_type": "stream",
     "text": [
      "/Users/bryanwright/forks/planckton\n"
     ]
    },
    {
     "name": "stderr",
     "output_type": "stream",
     "text": [
      "/Users/bryanwright/miniconda3/envs/planckton/lib/python3.7/site-packages/ipykernel/ipkernel.py:283: DeprecationWarning: `should_run_async` will not call `transform_cell` automatically in the future. Please pass the result to `transformed_cell` argument and any exception that happen during thetransform in `preprocessing_exc_tuple` in IPython 7.17 and above.\n",
      "  and should_run_async(code)\n"
     ]
    }
   ],
   "source": [
    "%%bash\n",
    "pwd"
   ]
  },
  {
   "cell_type": "code",
   "execution_count": null,
   "id": "090d4614",
   "metadata": {},
   "outputs": [],
   "source": []
  }
 ],
 "metadata": {
  "kernelspec": {
   "display_name": "Python 3",
   "language": "python",
   "name": "python3"
  },
  "language_info": {
   "codemirror_mode": {
    "name": "ipython",
    "version": 3
   },
   "file_extension": ".py",
   "mimetype": "text/x-python",
   "name": "python",
   "nbconvert_exporter": "python",
   "pygments_lexer": "ipython3",
   "version": "3.7.10"
  }
 },
 "nbformat": 4,
 "nbformat_minor": 5
}
